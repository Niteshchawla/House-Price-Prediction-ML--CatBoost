{
  "nbformat": 4,
  "nbformat_minor": 0,
  "metadata": {
    "colab": {
      "provenance": []
    },
    "kernelspec": {
      "name": "python3",
      "display_name": "Python 3"
    },
    "language_info": {
      "name": "python"
    }
  },
  "cells": [
    {
      "cell_type": "code",
      "execution_count": 162,
      "metadata": {
        "id": "hog4bqhojEaY"
      },
      "outputs": [],
      "source": [
        "import pandas as pd\n",
        "import numpy as np\n",
        "\n",
        "import seaborn as sns\n",
        "import matplotlib.pyplot as plt\n",
        "#%matplotlib inline\n",
        "\n",
        "from sklearn.linear_model import LinearRegression, Ridge, Lasso\n",
        "from sklearn.preprocessing import StandardScaler,MinMaxScaler\n",
        "from sklearn.metrics import r2_score, mean_absolute_error, mean_squared_error\n",
        "\n",
        "import statsmodels.api as sm"
      ]
    },
    {
      "cell_type": "code",
      "source": [
        "dftrain1=pd.read_csv('train.csv')\n",
        "dftest1=pd.read_csv('test.csv')"
      ],
      "metadata": {
        "id": "9vrp8_MIrgd_"
      },
      "execution_count": 163,
      "outputs": []
    },
    {
      "cell_type": "code",
      "source": [
        "dftrain=dftrain1.copy()\n",
        "dftest=dftest1.copy()"
      ],
      "metadata": {
        "id": "K_9NOiWUQ1xU"
      },
      "execution_count": 164,
      "outputs": []
    },
    {
      "cell_type": "markdown",
      "source": [
        "#Know Your Data"
      ],
      "metadata": {
        "id": "mZMXI_BjK1bN"
      }
    },
    {
      "cell_type": "code",
      "source": [
        "dftrain.head()"
      ],
      "metadata": {
        "colab": {
          "base_uri": "https://localhost:8080/",
          "height": 255
        },
        "id": "oT2zsbo2rzV_",
        "outputId": "34507529-ac20-4218-9c36-52f1cf34893c"
      },
      "execution_count": 165,
      "outputs": [
        {
          "output_type": "execute_result",
          "data": {
            "text/plain": [
              "   Id  MSSubClass MSZoning  LotFrontage  LotArea Street Alley LotShape  \\\n",
              "0   1          60       RL         65.0     8450   Pave   NaN      Reg   \n",
              "1   2          20       RL         80.0     9600   Pave   NaN      Reg   \n",
              "2   3          60       RL         68.0    11250   Pave   NaN      IR1   \n",
              "3   4          70       RL         60.0     9550   Pave   NaN      IR1   \n",
              "4   5          60       RL         84.0    14260   Pave   NaN      IR1   \n",
              "\n",
              "  LandContour Utilities  ... PoolArea PoolQC Fence MiscFeature MiscVal MoSold  \\\n",
              "0         Lvl    AllPub  ...        0    NaN   NaN         NaN       0      2   \n",
              "1         Lvl    AllPub  ...        0    NaN   NaN         NaN       0      5   \n",
              "2         Lvl    AllPub  ...        0    NaN   NaN         NaN       0      9   \n",
              "3         Lvl    AllPub  ...        0    NaN   NaN         NaN       0      2   \n",
              "4         Lvl    AllPub  ...        0    NaN   NaN         NaN       0     12   \n",
              "\n",
              "  YrSold  SaleType  SaleCondition  SalePrice  \n",
              "0   2008        WD         Normal     208500  \n",
              "1   2007        WD         Normal     181500  \n",
              "2   2008        WD         Normal     223500  \n",
              "3   2006        WD        Abnorml     140000  \n",
              "4   2008        WD         Normal     250000  \n",
              "\n",
              "[5 rows x 81 columns]"
            ],
            "text/html": [
              "\n",
              "  <div id=\"df-9cc02343-d381-48fe-b201-d04ae5161980\" class=\"colab-df-container\">\n",
              "    <div>\n",
              "<style scoped>\n",
              "    .dataframe tbody tr th:only-of-type {\n",
              "        vertical-align: middle;\n",
              "    }\n",
              "\n",
              "    .dataframe tbody tr th {\n",
              "        vertical-align: top;\n",
              "    }\n",
              "\n",
              "    .dataframe thead th {\n",
              "        text-align: right;\n",
              "    }\n",
              "</style>\n",
              "<table border=\"1\" class=\"dataframe\">\n",
              "  <thead>\n",
              "    <tr style=\"text-align: right;\">\n",
              "      <th></th>\n",
              "      <th>Id</th>\n",
              "      <th>MSSubClass</th>\n",
              "      <th>MSZoning</th>\n",
              "      <th>LotFrontage</th>\n",
              "      <th>LotArea</th>\n",
              "      <th>Street</th>\n",
              "      <th>Alley</th>\n",
              "      <th>LotShape</th>\n",
              "      <th>LandContour</th>\n",
              "      <th>Utilities</th>\n",
              "      <th>...</th>\n",
              "      <th>PoolArea</th>\n",
              "      <th>PoolQC</th>\n",
              "      <th>Fence</th>\n",
              "      <th>MiscFeature</th>\n",
              "      <th>MiscVal</th>\n",
              "      <th>MoSold</th>\n",
              "      <th>YrSold</th>\n",
              "      <th>SaleType</th>\n",
              "      <th>SaleCondition</th>\n",
              "      <th>SalePrice</th>\n",
              "    </tr>\n",
              "  </thead>\n",
              "  <tbody>\n",
              "    <tr>\n",
              "      <th>0</th>\n",
              "      <td>1</td>\n",
              "      <td>60</td>\n",
              "      <td>RL</td>\n",
              "      <td>65.0</td>\n",
              "      <td>8450</td>\n",
              "      <td>Pave</td>\n",
              "      <td>NaN</td>\n",
              "      <td>Reg</td>\n",
              "      <td>Lvl</td>\n",
              "      <td>AllPub</td>\n",
              "      <td>...</td>\n",
              "      <td>0</td>\n",
              "      <td>NaN</td>\n",
              "      <td>NaN</td>\n",
              "      <td>NaN</td>\n",
              "      <td>0</td>\n",
              "      <td>2</td>\n",
              "      <td>2008</td>\n",
              "      <td>WD</td>\n",
              "      <td>Normal</td>\n",
              "      <td>208500</td>\n",
              "    </tr>\n",
              "    <tr>\n",
              "      <th>1</th>\n",
              "      <td>2</td>\n",
              "      <td>20</td>\n",
              "      <td>RL</td>\n",
              "      <td>80.0</td>\n",
              "      <td>9600</td>\n",
              "      <td>Pave</td>\n",
              "      <td>NaN</td>\n",
              "      <td>Reg</td>\n",
              "      <td>Lvl</td>\n",
              "      <td>AllPub</td>\n",
              "      <td>...</td>\n",
              "      <td>0</td>\n",
              "      <td>NaN</td>\n",
              "      <td>NaN</td>\n",
              "      <td>NaN</td>\n",
              "      <td>0</td>\n",
              "      <td>5</td>\n",
              "      <td>2007</td>\n",
              "      <td>WD</td>\n",
              "      <td>Normal</td>\n",
              "      <td>181500</td>\n",
              "    </tr>\n",
              "    <tr>\n",
              "      <th>2</th>\n",
              "      <td>3</td>\n",
              "      <td>60</td>\n",
              "      <td>RL</td>\n",
              "      <td>68.0</td>\n",
              "      <td>11250</td>\n",
              "      <td>Pave</td>\n",
              "      <td>NaN</td>\n",
              "      <td>IR1</td>\n",
              "      <td>Lvl</td>\n",
              "      <td>AllPub</td>\n",
              "      <td>...</td>\n",
              "      <td>0</td>\n",
              "      <td>NaN</td>\n",
              "      <td>NaN</td>\n",
              "      <td>NaN</td>\n",
              "      <td>0</td>\n",
              "      <td>9</td>\n",
              "      <td>2008</td>\n",
              "      <td>WD</td>\n",
              "      <td>Normal</td>\n",
              "      <td>223500</td>\n",
              "    </tr>\n",
              "    <tr>\n",
              "      <th>3</th>\n",
              "      <td>4</td>\n",
              "      <td>70</td>\n",
              "      <td>RL</td>\n",
              "      <td>60.0</td>\n",
              "      <td>9550</td>\n",
              "      <td>Pave</td>\n",
              "      <td>NaN</td>\n",
              "      <td>IR1</td>\n",
              "      <td>Lvl</td>\n",
              "      <td>AllPub</td>\n",
              "      <td>...</td>\n",
              "      <td>0</td>\n",
              "      <td>NaN</td>\n",
              "      <td>NaN</td>\n",
              "      <td>NaN</td>\n",
              "      <td>0</td>\n",
              "      <td>2</td>\n",
              "      <td>2006</td>\n",
              "      <td>WD</td>\n",
              "      <td>Abnorml</td>\n",
              "      <td>140000</td>\n",
              "    </tr>\n",
              "    <tr>\n",
              "      <th>4</th>\n",
              "      <td>5</td>\n",
              "      <td>60</td>\n",
              "      <td>RL</td>\n",
              "      <td>84.0</td>\n",
              "      <td>14260</td>\n",
              "      <td>Pave</td>\n",
              "      <td>NaN</td>\n",
              "      <td>IR1</td>\n",
              "      <td>Lvl</td>\n",
              "      <td>AllPub</td>\n",
              "      <td>...</td>\n",
              "      <td>0</td>\n",
              "      <td>NaN</td>\n",
              "      <td>NaN</td>\n",
              "      <td>NaN</td>\n",
              "      <td>0</td>\n",
              "      <td>12</td>\n",
              "      <td>2008</td>\n",
              "      <td>WD</td>\n",
              "      <td>Normal</td>\n",
              "      <td>250000</td>\n",
              "    </tr>\n",
              "  </tbody>\n",
              "</table>\n",
              "<p>5 rows × 81 columns</p>\n",
              "</div>\n",
              "    <div class=\"colab-df-buttons\">\n",
              "\n",
              "  <div class=\"colab-df-container\">\n",
              "    <button class=\"colab-df-convert\" onclick=\"convertToInteractive('df-9cc02343-d381-48fe-b201-d04ae5161980')\"\n",
              "            title=\"Convert this dataframe to an interactive table.\"\n",
              "            style=\"display:none;\">\n",
              "\n",
              "  <svg xmlns=\"http://www.w3.org/2000/svg\" height=\"24px\" viewBox=\"0 -960 960 960\">\n",
              "    <path d=\"M120-120v-720h720v720H120Zm60-500h600v-160H180v160Zm220 220h160v-160H400v160Zm0 220h160v-160H400v160ZM180-400h160v-160H180v160Zm440 0h160v-160H620v160ZM180-180h160v-160H180v160Zm440 0h160v-160H620v160Z\"/>\n",
              "  </svg>\n",
              "    </button>\n",
              "\n",
              "  <style>\n",
              "    .colab-df-container {\n",
              "      display:flex;\n",
              "      gap: 12px;\n",
              "    }\n",
              "\n",
              "    .colab-df-convert {\n",
              "      background-color: #E8F0FE;\n",
              "      border: none;\n",
              "      border-radius: 50%;\n",
              "      cursor: pointer;\n",
              "      display: none;\n",
              "      fill: #1967D2;\n",
              "      height: 32px;\n",
              "      padding: 0 0 0 0;\n",
              "      width: 32px;\n",
              "    }\n",
              "\n",
              "    .colab-df-convert:hover {\n",
              "      background-color: #E2EBFA;\n",
              "      box-shadow: 0px 1px 2px rgba(60, 64, 67, 0.3), 0px 1px 3px 1px rgba(60, 64, 67, 0.15);\n",
              "      fill: #174EA6;\n",
              "    }\n",
              "\n",
              "    .colab-df-buttons div {\n",
              "      margin-bottom: 4px;\n",
              "    }\n",
              "\n",
              "    [theme=dark] .colab-df-convert {\n",
              "      background-color: #3B4455;\n",
              "      fill: #D2E3FC;\n",
              "    }\n",
              "\n",
              "    [theme=dark] .colab-df-convert:hover {\n",
              "      background-color: #434B5C;\n",
              "      box-shadow: 0px 1px 3px 1px rgba(0, 0, 0, 0.15);\n",
              "      filter: drop-shadow(0px 1px 2px rgba(0, 0, 0, 0.3));\n",
              "      fill: #FFFFFF;\n",
              "    }\n",
              "  </style>\n",
              "\n",
              "    <script>\n",
              "      const buttonEl =\n",
              "        document.querySelector('#df-9cc02343-d381-48fe-b201-d04ae5161980 button.colab-df-convert');\n",
              "      buttonEl.style.display =\n",
              "        google.colab.kernel.accessAllowed ? 'block' : 'none';\n",
              "\n",
              "      async function convertToInteractive(key) {\n",
              "        const element = document.querySelector('#df-9cc02343-d381-48fe-b201-d04ae5161980');\n",
              "        const dataTable =\n",
              "          await google.colab.kernel.invokeFunction('convertToInteractive',\n",
              "                                                    [key], {});\n",
              "        if (!dataTable) return;\n",
              "\n",
              "        const docLinkHtml = 'Like what you see? Visit the ' +\n",
              "          '<a target=\"_blank\" href=https://colab.research.google.com/notebooks/data_table.ipynb>data table notebook</a>'\n",
              "          + ' to learn more about interactive tables.';\n",
              "        element.innerHTML = '';\n",
              "        dataTable['output_type'] = 'display_data';\n",
              "        await google.colab.output.renderOutput(dataTable, element);\n",
              "        const docLink = document.createElement('div');\n",
              "        docLink.innerHTML = docLinkHtml;\n",
              "        element.appendChild(docLink);\n",
              "      }\n",
              "    </script>\n",
              "  </div>\n",
              "\n",
              "\n",
              "<div id=\"df-edf74956-cef3-4850-ae4e-98f5a1db2fc2\">\n",
              "  <button class=\"colab-df-quickchart\" onclick=\"quickchart('df-edf74956-cef3-4850-ae4e-98f5a1db2fc2')\"\n",
              "            title=\"Suggest charts\"\n",
              "            style=\"display:none;\">\n",
              "\n",
              "<svg xmlns=\"http://www.w3.org/2000/svg\" height=\"24px\"viewBox=\"0 0 24 24\"\n",
              "     width=\"24px\">\n",
              "    <g>\n",
              "        <path d=\"M19 3H5c-1.1 0-2 .9-2 2v14c0 1.1.9 2 2 2h14c1.1 0 2-.9 2-2V5c0-1.1-.9-2-2-2zM9 17H7v-7h2v7zm4 0h-2V7h2v10zm4 0h-2v-4h2v4z\"/>\n",
              "    </g>\n",
              "</svg>\n",
              "  </button>\n",
              "\n",
              "<style>\n",
              "  .colab-df-quickchart {\n",
              "      --bg-color: #E8F0FE;\n",
              "      --fill-color: #1967D2;\n",
              "      --hover-bg-color: #E2EBFA;\n",
              "      --hover-fill-color: #174EA6;\n",
              "      --disabled-fill-color: #AAA;\n",
              "      --disabled-bg-color: #DDD;\n",
              "  }\n",
              "\n",
              "  [theme=dark] .colab-df-quickchart {\n",
              "      --bg-color: #3B4455;\n",
              "      --fill-color: #D2E3FC;\n",
              "      --hover-bg-color: #434B5C;\n",
              "      --hover-fill-color: #FFFFFF;\n",
              "      --disabled-bg-color: #3B4455;\n",
              "      --disabled-fill-color: #666;\n",
              "  }\n",
              "\n",
              "  .colab-df-quickchart {\n",
              "    background-color: var(--bg-color);\n",
              "    border: none;\n",
              "    border-radius: 50%;\n",
              "    cursor: pointer;\n",
              "    display: none;\n",
              "    fill: var(--fill-color);\n",
              "    height: 32px;\n",
              "    padding: 0;\n",
              "    width: 32px;\n",
              "  }\n",
              "\n",
              "  .colab-df-quickchart:hover {\n",
              "    background-color: var(--hover-bg-color);\n",
              "    box-shadow: 0 1px 2px rgba(60, 64, 67, 0.3), 0 1px 3px 1px rgba(60, 64, 67, 0.15);\n",
              "    fill: var(--button-hover-fill-color);\n",
              "  }\n",
              "\n",
              "  .colab-df-quickchart-complete:disabled,\n",
              "  .colab-df-quickchart-complete:disabled:hover {\n",
              "    background-color: var(--disabled-bg-color);\n",
              "    fill: var(--disabled-fill-color);\n",
              "    box-shadow: none;\n",
              "  }\n",
              "\n",
              "  .colab-df-spinner {\n",
              "    border: 2px solid var(--fill-color);\n",
              "    border-color: transparent;\n",
              "    border-bottom-color: var(--fill-color);\n",
              "    animation:\n",
              "      spin 1s steps(1) infinite;\n",
              "  }\n",
              "\n",
              "  @keyframes spin {\n",
              "    0% {\n",
              "      border-color: transparent;\n",
              "      border-bottom-color: var(--fill-color);\n",
              "      border-left-color: var(--fill-color);\n",
              "    }\n",
              "    20% {\n",
              "      border-color: transparent;\n",
              "      border-left-color: var(--fill-color);\n",
              "      border-top-color: var(--fill-color);\n",
              "    }\n",
              "    30% {\n",
              "      border-color: transparent;\n",
              "      border-left-color: var(--fill-color);\n",
              "      border-top-color: var(--fill-color);\n",
              "      border-right-color: var(--fill-color);\n",
              "    }\n",
              "    40% {\n",
              "      border-color: transparent;\n",
              "      border-right-color: var(--fill-color);\n",
              "      border-top-color: var(--fill-color);\n",
              "    }\n",
              "    60% {\n",
              "      border-color: transparent;\n",
              "      border-right-color: var(--fill-color);\n",
              "    }\n",
              "    80% {\n",
              "      border-color: transparent;\n",
              "      border-right-color: var(--fill-color);\n",
              "      border-bottom-color: var(--fill-color);\n",
              "    }\n",
              "    90% {\n",
              "      border-color: transparent;\n",
              "      border-bottom-color: var(--fill-color);\n",
              "    }\n",
              "  }\n",
              "</style>\n",
              "\n",
              "  <script>\n",
              "    async function quickchart(key) {\n",
              "      const quickchartButtonEl =\n",
              "        document.querySelector('#' + key + ' button');\n",
              "      quickchartButtonEl.disabled = true;  // To prevent multiple clicks.\n",
              "      quickchartButtonEl.classList.add('colab-df-spinner');\n",
              "      try {\n",
              "        const charts = await google.colab.kernel.invokeFunction(\n",
              "            'suggestCharts', [key], {});\n",
              "      } catch (error) {\n",
              "        console.error('Error during call to suggestCharts:', error);\n",
              "      }\n",
              "      quickchartButtonEl.classList.remove('colab-df-spinner');\n",
              "      quickchartButtonEl.classList.add('colab-df-quickchart-complete');\n",
              "    }\n",
              "    (() => {\n",
              "      let quickchartButtonEl =\n",
              "        document.querySelector('#df-edf74956-cef3-4850-ae4e-98f5a1db2fc2 button');\n",
              "      quickchartButtonEl.style.display =\n",
              "        google.colab.kernel.accessAllowed ? 'block' : 'none';\n",
              "    })();\n",
              "  </script>\n",
              "</div>\n",
              "\n",
              "    </div>\n",
              "  </div>\n"
            ],
            "application/vnd.google.colaboratory.intrinsic+json": {
              "type": "dataframe",
              "variable_name": "dftrain"
            }
          },
          "metadata": {},
          "execution_count": 165
        }
      ]
    },
    {
      "cell_type": "code",
      "source": [
        "dftest.head()"
      ],
      "metadata": {
        "colab": {
          "base_uri": "https://localhost:8080/",
          "height": 255
        },
        "id": "coDmKdSFr2bQ",
        "outputId": "5d3bb541-e2d2-455f-fbb2-a36aaa1c52fe"
      },
      "execution_count": 166,
      "outputs": [
        {
          "output_type": "execute_result",
          "data": {
            "text/plain": [
              "     Id  MSSubClass MSZoning  LotFrontage  LotArea Street Alley LotShape  \\\n",
              "0  1461          20       RH         80.0    11622   Pave   NaN      Reg   \n",
              "1  1462          20       RL         81.0    14267   Pave   NaN      IR1   \n",
              "2  1463          60       RL         74.0    13830   Pave   NaN      IR1   \n",
              "3  1464          60       RL         78.0     9978   Pave   NaN      IR1   \n",
              "4  1465         120       RL         43.0     5005   Pave   NaN      IR1   \n",
              "\n",
              "  LandContour Utilities  ... ScreenPorch PoolArea PoolQC  Fence MiscFeature  \\\n",
              "0         Lvl    AllPub  ...         120        0    NaN  MnPrv         NaN   \n",
              "1         Lvl    AllPub  ...           0        0    NaN    NaN        Gar2   \n",
              "2         Lvl    AllPub  ...           0        0    NaN  MnPrv         NaN   \n",
              "3         Lvl    AllPub  ...           0        0    NaN    NaN         NaN   \n",
              "4         HLS    AllPub  ...         144        0    NaN    NaN         NaN   \n",
              "\n",
              "  MiscVal MoSold  YrSold  SaleType  SaleCondition  \n",
              "0       0      6    2010        WD         Normal  \n",
              "1   12500      6    2010        WD         Normal  \n",
              "2       0      3    2010        WD         Normal  \n",
              "3       0      6    2010        WD         Normal  \n",
              "4       0      1    2010        WD         Normal  \n",
              "\n",
              "[5 rows x 80 columns]"
            ],
            "text/html": [
              "\n",
              "  <div id=\"df-60e76a09-6551-4b26-8d5f-d864394870a3\" class=\"colab-df-container\">\n",
              "    <div>\n",
              "<style scoped>\n",
              "    .dataframe tbody tr th:only-of-type {\n",
              "        vertical-align: middle;\n",
              "    }\n",
              "\n",
              "    .dataframe tbody tr th {\n",
              "        vertical-align: top;\n",
              "    }\n",
              "\n",
              "    .dataframe thead th {\n",
              "        text-align: right;\n",
              "    }\n",
              "</style>\n",
              "<table border=\"1\" class=\"dataframe\">\n",
              "  <thead>\n",
              "    <tr style=\"text-align: right;\">\n",
              "      <th></th>\n",
              "      <th>Id</th>\n",
              "      <th>MSSubClass</th>\n",
              "      <th>MSZoning</th>\n",
              "      <th>LotFrontage</th>\n",
              "      <th>LotArea</th>\n",
              "      <th>Street</th>\n",
              "      <th>Alley</th>\n",
              "      <th>LotShape</th>\n",
              "      <th>LandContour</th>\n",
              "      <th>Utilities</th>\n",
              "      <th>...</th>\n",
              "      <th>ScreenPorch</th>\n",
              "      <th>PoolArea</th>\n",
              "      <th>PoolQC</th>\n",
              "      <th>Fence</th>\n",
              "      <th>MiscFeature</th>\n",
              "      <th>MiscVal</th>\n",
              "      <th>MoSold</th>\n",
              "      <th>YrSold</th>\n",
              "      <th>SaleType</th>\n",
              "      <th>SaleCondition</th>\n",
              "    </tr>\n",
              "  </thead>\n",
              "  <tbody>\n",
              "    <tr>\n",
              "      <th>0</th>\n",
              "      <td>1461</td>\n",
              "      <td>20</td>\n",
              "      <td>RH</td>\n",
              "      <td>80.0</td>\n",
              "      <td>11622</td>\n",
              "      <td>Pave</td>\n",
              "      <td>NaN</td>\n",
              "      <td>Reg</td>\n",
              "      <td>Lvl</td>\n",
              "      <td>AllPub</td>\n",
              "      <td>...</td>\n",
              "      <td>120</td>\n",
              "      <td>0</td>\n",
              "      <td>NaN</td>\n",
              "      <td>MnPrv</td>\n",
              "      <td>NaN</td>\n",
              "      <td>0</td>\n",
              "      <td>6</td>\n",
              "      <td>2010</td>\n",
              "      <td>WD</td>\n",
              "      <td>Normal</td>\n",
              "    </tr>\n",
              "    <tr>\n",
              "      <th>1</th>\n",
              "      <td>1462</td>\n",
              "      <td>20</td>\n",
              "      <td>RL</td>\n",
              "      <td>81.0</td>\n",
              "      <td>14267</td>\n",
              "      <td>Pave</td>\n",
              "      <td>NaN</td>\n",
              "      <td>IR1</td>\n",
              "      <td>Lvl</td>\n",
              "      <td>AllPub</td>\n",
              "      <td>...</td>\n",
              "      <td>0</td>\n",
              "      <td>0</td>\n",
              "      <td>NaN</td>\n",
              "      <td>NaN</td>\n",
              "      <td>Gar2</td>\n",
              "      <td>12500</td>\n",
              "      <td>6</td>\n",
              "      <td>2010</td>\n",
              "      <td>WD</td>\n",
              "      <td>Normal</td>\n",
              "    </tr>\n",
              "    <tr>\n",
              "      <th>2</th>\n",
              "      <td>1463</td>\n",
              "      <td>60</td>\n",
              "      <td>RL</td>\n",
              "      <td>74.0</td>\n",
              "      <td>13830</td>\n",
              "      <td>Pave</td>\n",
              "      <td>NaN</td>\n",
              "      <td>IR1</td>\n",
              "      <td>Lvl</td>\n",
              "      <td>AllPub</td>\n",
              "      <td>...</td>\n",
              "      <td>0</td>\n",
              "      <td>0</td>\n",
              "      <td>NaN</td>\n",
              "      <td>MnPrv</td>\n",
              "      <td>NaN</td>\n",
              "      <td>0</td>\n",
              "      <td>3</td>\n",
              "      <td>2010</td>\n",
              "      <td>WD</td>\n",
              "      <td>Normal</td>\n",
              "    </tr>\n",
              "    <tr>\n",
              "      <th>3</th>\n",
              "      <td>1464</td>\n",
              "      <td>60</td>\n",
              "      <td>RL</td>\n",
              "      <td>78.0</td>\n",
              "      <td>9978</td>\n",
              "      <td>Pave</td>\n",
              "      <td>NaN</td>\n",
              "      <td>IR1</td>\n",
              "      <td>Lvl</td>\n",
              "      <td>AllPub</td>\n",
              "      <td>...</td>\n",
              "      <td>0</td>\n",
              "      <td>0</td>\n",
              "      <td>NaN</td>\n",
              "      <td>NaN</td>\n",
              "      <td>NaN</td>\n",
              "      <td>0</td>\n",
              "      <td>6</td>\n",
              "      <td>2010</td>\n",
              "      <td>WD</td>\n",
              "      <td>Normal</td>\n",
              "    </tr>\n",
              "    <tr>\n",
              "      <th>4</th>\n",
              "      <td>1465</td>\n",
              "      <td>120</td>\n",
              "      <td>RL</td>\n",
              "      <td>43.0</td>\n",
              "      <td>5005</td>\n",
              "      <td>Pave</td>\n",
              "      <td>NaN</td>\n",
              "      <td>IR1</td>\n",
              "      <td>HLS</td>\n",
              "      <td>AllPub</td>\n",
              "      <td>...</td>\n",
              "      <td>144</td>\n",
              "      <td>0</td>\n",
              "      <td>NaN</td>\n",
              "      <td>NaN</td>\n",
              "      <td>NaN</td>\n",
              "      <td>0</td>\n",
              "      <td>1</td>\n",
              "      <td>2010</td>\n",
              "      <td>WD</td>\n",
              "      <td>Normal</td>\n",
              "    </tr>\n",
              "  </tbody>\n",
              "</table>\n",
              "<p>5 rows × 80 columns</p>\n",
              "</div>\n",
              "    <div class=\"colab-df-buttons\">\n",
              "\n",
              "  <div class=\"colab-df-container\">\n",
              "    <button class=\"colab-df-convert\" onclick=\"convertToInteractive('df-60e76a09-6551-4b26-8d5f-d864394870a3')\"\n",
              "            title=\"Convert this dataframe to an interactive table.\"\n",
              "            style=\"display:none;\">\n",
              "\n",
              "  <svg xmlns=\"http://www.w3.org/2000/svg\" height=\"24px\" viewBox=\"0 -960 960 960\">\n",
              "    <path d=\"M120-120v-720h720v720H120Zm60-500h600v-160H180v160Zm220 220h160v-160H400v160Zm0 220h160v-160H400v160ZM180-400h160v-160H180v160Zm440 0h160v-160H620v160ZM180-180h160v-160H180v160Zm440 0h160v-160H620v160Z\"/>\n",
              "  </svg>\n",
              "    </button>\n",
              "\n",
              "  <style>\n",
              "    .colab-df-container {\n",
              "      display:flex;\n",
              "      gap: 12px;\n",
              "    }\n",
              "\n",
              "    .colab-df-convert {\n",
              "      background-color: #E8F0FE;\n",
              "      border: none;\n",
              "      border-radius: 50%;\n",
              "      cursor: pointer;\n",
              "      display: none;\n",
              "      fill: #1967D2;\n",
              "      height: 32px;\n",
              "      padding: 0 0 0 0;\n",
              "      width: 32px;\n",
              "    }\n",
              "\n",
              "    .colab-df-convert:hover {\n",
              "      background-color: #E2EBFA;\n",
              "      box-shadow: 0px 1px 2px rgba(60, 64, 67, 0.3), 0px 1px 3px 1px rgba(60, 64, 67, 0.15);\n",
              "      fill: #174EA6;\n",
              "    }\n",
              "\n",
              "    .colab-df-buttons div {\n",
              "      margin-bottom: 4px;\n",
              "    }\n",
              "\n",
              "    [theme=dark] .colab-df-convert {\n",
              "      background-color: #3B4455;\n",
              "      fill: #D2E3FC;\n",
              "    }\n",
              "\n",
              "    [theme=dark] .colab-df-convert:hover {\n",
              "      background-color: #434B5C;\n",
              "      box-shadow: 0px 1px 3px 1px rgba(0, 0, 0, 0.15);\n",
              "      filter: drop-shadow(0px 1px 2px rgba(0, 0, 0, 0.3));\n",
              "      fill: #FFFFFF;\n",
              "    }\n",
              "  </style>\n",
              "\n",
              "    <script>\n",
              "      const buttonEl =\n",
              "        document.querySelector('#df-60e76a09-6551-4b26-8d5f-d864394870a3 button.colab-df-convert');\n",
              "      buttonEl.style.display =\n",
              "        google.colab.kernel.accessAllowed ? 'block' : 'none';\n",
              "\n",
              "      async function convertToInteractive(key) {\n",
              "        const element = document.querySelector('#df-60e76a09-6551-4b26-8d5f-d864394870a3');\n",
              "        const dataTable =\n",
              "          await google.colab.kernel.invokeFunction('convertToInteractive',\n",
              "                                                    [key], {});\n",
              "        if (!dataTable) return;\n",
              "\n",
              "        const docLinkHtml = 'Like what you see? Visit the ' +\n",
              "          '<a target=\"_blank\" href=https://colab.research.google.com/notebooks/data_table.ipynb>data table notebook</a>'\n",
              "          + ' to learn more about interactive tables.';\n",
              "        element.innerHTML = '';\n",
              "        dataTable['output_type'] = 'display_data';\n",
              "        await google.colab.output.renderOutput(dataTable, element);\n",
              "        const docLink = document.createElement('div');\n",
              "        docLink.innerHTML = docLinkHtml;\n",
              "        element.appendChild(docLink);\n",
              "      }\n",
              "    </script>\n",
              "  </div>\n",
              "\n",
              "\n",
              "<div id=\"df-a2e34917-aa77-4a1f-bafe-ba0282d7249b\">\n",
              "  <button class=\"colab-df-quickchart\" onclick=\"quickchart('df-a2e34917-aa77-4a1f-bafe-ba0282d7249b')\"\n",
              "            title=\"Suggest charts\"\n",
              "            style=\"display:none;\">\n",
              "\n",
              "<svg xmlns=\"http://www.w3.org/2000/svg\" height=\"24px\"viewBox=\"0 0 24 24\"\n",
              "     width=\"24px\">\n",
              "    <g>\n",
              "        <path d=\"M19 3H5c-1.1 0-2 .9-2 2v14c0 1.1.9 2 2 2h14c1.1 0 2-.9 2-2V5c0-1.1-.9-2-2-2zM9 17H7v-7h2v7zm4 0h-2V7h2v10zm4 0h-2v-4h2v4z\"/>\n",
              "    </g>\n",
              "</svg>\n",
              "  </button>\n",
              "\n",
              "<style>\n",
              "  .colab-df-quickchart {\n",
              "      --bg-color: #E8F0FE;\n",
              "      --fill-color: #1967D2;\n",
              "      --hover-bg-color: #E2EBFA;\n",
              "      --hover-fill-color: #174EA6;\n",
              "      --disabled-fill-color: #AAA;\n",
              "      --disabled-bg-color: #DDD;\n",
              "  }\n",
              "\n",
              "  [theme=dark] .colab-df-quickchart {\n",
              "      --bg-color: #3B4455;\n",
              "      --fill-color: #D2E3FC;\n",
              "      --hover-bg-color: #434B5C;\n",
              "      --hover-fill-color: #FFFFFF;\n",
              "      --disabled-bg-color: #3B4455;\n",
              "      --disabled-fill-color: #666;\n",
              "  }\n",
              "\n",
              "  .colab-df-quickchart {\n",
              "    background-color: var(--bg-color);\n",
              "    border: none;\n",
              "    border-radius: 50%;\n",
              "    cursor: pointer;\n",
              "    display: none;\n",
              "    fill: var(--fill-color);\n",
              "    height: 32px;\n",
              "    padding: 0;\n",
              "    width: 32px;\n",
              "  }\n",
              "\n",
              "  .colab-df-quickchart:hover {\n",
              "    background-color: var(--hover-bg-color);\n",
              "    box-shadow: 0 1px 2px rgba(60, 64, 67, 0.3), 0 1px 3px 1px rgba(60, 64, 67, 0.15);\n",
              "    fill: var(--button-hover-fill-color);\n",
              "  }\n",
              "\n",
              "  .colab-df-quickchart-complete:disabled,\n",
              "  .colab-df-quickchart-complete:disabled:hover {\n",
              "    background-color: var(--disabled-bg-color);\n",
              "    fill: var(--disabled-fill-color);\n",
              "    box-shadow: none;\n",
              "  }\n",
              "\n",
              "  .colab-df-spinner {\n",
              "    border: 2px solid var(--fill-color);\n",
              "    border-color: transparent;\n",
              "    border-bottom-color: var(--fill-color);\n",
              "    animation:\n",
              "      spin 1s steps(1) infinite;\n",
              "  }\n",
              "\n",
              "  @keyframes spin {\n",
              "    0% {\n",
              "      border-color: transparent;\n",
              "      border-bottom-color: var(--fill-color);\n",
              "      border-left-color: var(--fill-color);\n",
              "    }\n",
              "    20% {\n",
              "      border-color: transparent;\n",
              "      border-left-color: var(--fill-color);\n",
              "      border-top-color: var(--fill-color);\n",
              "    }\n",
              "    30% {\n",
              "      border-color: transparent;\n",
              "      border-left-color: var(--fill-color);\n",
              "      border-top-color: var(--fill-color);\n",
              "      border-right-color: var(--fill-color);\n",
              "    }\n",
              "    40% {\n",
              "      border-color: transparent;\n",
              "      border-right-color: var(--fill-color);\n",
              "      border-top-color: var(--fill-color);\n",
              "    }\n",
              "    60% {\n",
              "      border-color: transparent;\n",
              "      border-right-color: var(--fill-color);\n",
              "    }\n",
              "    80% {\n",
              "      border-color: transparent;\n",
              "      border-right-color: var(--fill-color);\n",
              "      border-bottom-color: var(--fill-color);\n",
              "    }\n",
              "    90% {\n",
              "      border-color: transparent;\n",
              "      border-bottom-color: var(--fill-color);\n",
              "    }\n",
              "  }\n",
              "</style>\n",
              "\n",
              "  <script>\n",
              "    async function quickchart(key) {\n",
              "      const quickchartButtonEl =\n",
              "        document.querySelector('#' + key + ' button');\n",
              "      quickchartButtonEl.disabled = true;  // To prevent multiple clicks.\n",
              "      quickchartButtonEl.classList.add('colab-df-spinner');\n",
              "      try {\n",
              "        const charts = await google.colab.kernel.invokeFunction(\n",
              "            'suggestCharts', [key], {});\n",
              "      } catch (error) {\n",
              "        console.error('Error during call to suggestCharts:', error);\n",
              "      }\n",
              "      quickchartButtonEl.classList.remove('colab-df-spinner');\n",
              "      quickchartButtonEl.classList.add('colab-df-quickchart-complete');\n",
              "    }\n",
              "    (() => {\n",
              "      let quickchartButtonEl =\n",
              "        document.querySelector('#df-a2e34917-aa77-4a1f-bafe-ba0282d7249b button');\n",
              "      quickchartButtonEl.style.display =\n",
              "        google.colab.kernel.accessAllowed ? 'block' : 'none';\n",
              "    })();\n",
              "  </script>\n",
              "</div>\n",
              "\n",
              "    </div>\n",
              "  </div>\n"
            ],
            "application/vnd.google.colaboratory.intrinsic+json": {
              "type": "dataframe",
              "variable_name": "dftest"
            }
          },
          "metadata": {},
          "execution_count": 166
        }
      ]
    },
    {
      "cell_type": "code",
      "source": [
        "dftrain.info()"
      ],
      "metadata": {
        "colab": {
          "base_uri": "https://localhost:8080/"
        },
        "id": "XQ7HkEont01p",
        "outputId": "a0c578b9-edfa-4e33-a9f2-a07e643740b3"
      },
      "execution_count": 167,
      "outputs": [
        {
          "output_type": "stream",
          "name": "stdout",
          "text": [
            "<class 'pandas.core.frame.DataFrame'>\n",
            "RangeIndex: 1460 entries, 0 to 1459\n",
            "Data columns (total 81 columns):\n",
            " #   Column         Non-Null Count  Dtype  \n",
            "---  ------         --------------  -----  \n",
            " 0   Id             1460 non-null   int64  \n",
            " 1   MSSubClass     1460 non-null   int64  \n",
            " 2   MSZoning       1460 non-null   object \n",
            " 3   LotFrontage    1201 non-null   float64\n",
            " 4   LotArea        1460 non-null   int64  \n",
            " 5   Street         1460 non-null   object \n",
            " 6   Alley          91 non-null     object \n",
            " 7   LotShape       1460 non-null   object \n",
            " 8   LandContour    1460 non-null   object \n",
            " 9   Utilities      1460 non-null   object \n",
            " 10  LotConfig      1460 non-null   object \n",
            " 11  LandSlope      1460 non-null   object \n",
            " 12  Neighborhood   1460 non-null   object \n",
            " 13  Condition1     1460 non-null   object \n",
            " 14  Condition2     1460 non-null   object \n",
            " 15  BldgType       1460 non-null   object \n",
            " 16  HouseStyle     1460 non-null   object \n",
            " 17  OverallQual    1460 non-null   int64  \n",
            " 18  OverallCond    1460 non-null   int64  \n",
            " 19  YearBuilt      1460 non-null   int64  \n",
            " 20  YearRemodAdd   1460 non-null   int64  \n",
            " 21  RoofStyle      1460 non-null   object \n",
            " 22  RoofMatl       1460 non-null   object \n",
            " 23  Exterior1st    1460 non-null   object \n",
            " 24  Exterior2nd    1460 non-null   object \n",
            " 25  MasVnrType     588 non-null    object \n",
            " 26  MasVnrArea     1452 non-null   float64\n",
            " 27  ExterQual      1460 non-null   object \n",
            " 28  ExterCond      1460 non-null   object \n",
            " 29  Foundation     1460 non-null   object \n",
            " 30  BsmtQual       1423 non-null   object \n",
            " 31  BsmtCond       1423 non-null   object \n",
            " 32  BsmtExposure   1422 non-null   object \n",
            " 33  BsmtFinType1   1423 non-null   object \n",
            " 34  BsmtFinSF1     1460 non-null   int64  \n",
            " 35  BsmtFinType2   1422 non-null   object \n",
            " 36  BsmtFinSF2     1460 non-null   int64  \n",
            " 37  BsmtUnfSF      1460 non-null   int64  \n",
            " 38  TotalBsmtSF    1460 non-null   int64  \n",
            " 39  Heating        1460 non-null   object \n",
            " 40  HeatingQC      1460 non-null   object \n",
            " 41  CentralAir     1460 non-null   object \n",
            " 42  Electrical     1459 non-null   object \n",
            " 43  1stFlrSF       1460 non-null   int64  \n",
            " 44  2ndFlrSF       1460 non-null   int64  \n",
            " 45  LowQualFinSF   1460 non-null   int64  \n",
            " 46  GrLivArea      1460 non-null   int64  \n",
            " 47  BsmtFullBath   1460 non-null   int64  \n",
            " 48  BsmtHalfBath   1460 non-null   int64  \n",
            " 49  FullBath       1460 non-null   int64  \n",
            " 50  HalfBath       1460 non-null   int64  \n",
            " 51  BedroomAbvGr   1460 non-null   int64  \n",
            " 52  KitchenAbvGr   1460 non-null   int64  \n",
            " 53  KitchenQual    1460 non-null   object \n",
            " 54  TotRmsAbvGrd   1460 non-null   int64  \n",
            " 55  Functional     1460 non-null   object \n",
            " 56  Fireplaces     1460 non-null   int64  \n",
            " 57  FireplaceQu    770 non-null    object \n",
            " 58  GarageType     1379 non-null   object \n",
            " 59  GarageYrBlt    1379 non-null   float64\n",
            " 60  GarageFinish   1379 non-null   object \n",
            " 61  GarageCars     1460 non-null   int64  \n",
            " 62  GarageArea     1460 non-null   int64  \n",
            " 63  GarageQual     1379 non-null   object \n",
            " 64  GarageCond     1379 non-null   object \n",
            " 65  PavedDrive     1460 non-null   object \n",
            " 66  WoodDeckSF     1460 non-null   int64  \n",
            " 67  OpenPorchSF    1460 non-null   int64  \n",
            " 68  EnclosedPorch  1460 non-null   int64  \n",
            " 69  3SsnPorch      1460 non-null   int64  \n",
            " 70  ScreenPorch    1460 non-null   int64  \n",
            " 71  PoolArea       1460 non-null   int64  \n",
            " 72  PoolQC         7 non-null      object \n",
            " 73  Fence          281 non-null    object \n",
            " 74  MiscFeature    54 non-null     object \n",
            " 75  MiscVal        1460 non-null   int64  \n",
            " 76  MoSold         1460 non-null   int64  \n",
            " 77  YrSold         1460 non-null   int64  \n",
            " 78  SaleType       1460 non-null   object \n",
            " 79  SaleCondition  1460 non-null   object \n",
            " 80  SalePrice      1460 non-null   int64  \n",
            "dtypes: float64(3), int64(35), object(43)\n",
            "memory usage: 924.0+ KB\n"
          ]
        }
      ]
    },
    {
      "cell_type": "code",
      "source": [
        "dftest.info()"
      ],
      "metadata": {
        "colab": {
          "base_uri": "https://localhost:8080/"
        },
        "id": "JzrP-cg-t7UZ",
        "outputId": "70b61df1-52e7-4776-edeb-acbdb5d5c796"
      },
      "execution_count": 168,
      "outputs": [
        {
          "output_type": "stream",
          "name": "stdout",
          "text": [
            "<class 'pandas.core.frame.DataFrame'>\n",
            "RangeIndex: 1459 entries, 0 to 1458\n",
            "Data columns (total 80 columns):\n",
            " #   Column         Non-Null Count  Dtype  \n",
            "---  ------         --------------  -----  \n",
            " 0   Id             1459 non-null   int64  \n",
            " 1   MSSubClass     1459 non-null   int64  \n",
            " 2   MSZoning       1455 non-null   object \n",
            " 3   LotFrontage    1232 non-null   float64\n",
            " 4   LotArea        1459 non-null   int64  \n",
            " 5   Street         1459 non-null   object \n",
            " 6   Alley          107 non-null    object \n",
            " 7   LotShape       1459 non-null   object \n",
            " 8   LandContour    1459 non-null   object \n",
            " 9   Utilities      1457 non-null   object \n",
            " 10  LotConfig      1459 non-null   object \n",
            " 11  LandSlope      1459 non-null   object \n",
            " 12  Neighborhood   1459 non-null   object \n",
            " 13  Condition1     1459 non-null   object \n",
            " 14  Condition2     1459 non-null   object \n",
            " 15  BldgType       1459 non-null   object \n",
            " 16  HouseStyle     1459 non-null   object \n",
            " 17  OverallQual    1459 non-null   int64  \n",
            " 18  OverallCond    1459 non-null   int64  \n",
            " 19  YearBuilt      1459 non-null   int64  \n",
            " 20  YearRemodAdd   1459 non-null   int64  \n",
            " 21  RoofStyle      1459 non-null   object \n",
            " 22  RoofMatl       1459 non-null   object \n",
            " 23  Exterior1st    1458 non-null   object \n",
            " 24  Exterior2nd    1458 non-null   object \n",
            " 25  MasVnrType     565 non-null    object \n",
            " 26  MasVnrArea     1444 non-null   float64\n",
            " 27  ExterQual      1459 non-null   object \n",
            " 28  ExterCond      1459 non-null   object \n",
            " 29  Foundation     1459 non-null   object \n",
            " 30  BsmtQual       1415 non-null   object \n",
            " 31  BsmtCond       1414 non-null   object \n",
            " 32  BsmtExposure   1415 non-null   object \n",
            " 33  BsmtFinType1   1417 non-null   object \n",
            " 34  BsmtFinSF1     1458 non-null   float64\n",
            " 35  BsmtFinType2   1417 non-null   object \n",
            " 36  BsmtFinSF2     1458 non-null   float64\n",
            " 37  BsmtUnfSF      1458 non-null   float64\n",
            " 38  TotalBsmtSF    1458 non-null   float64\n",
            " 39  Heating        1459 non-null   object \n",
            " 40  HeatingQC      1459 non-null   object \n",
            " 41  CentralAir     1459 non-null   object \n",
            " 42  Electrical     1459 non-null   object \n",
            " 43  1stFlrSF       1459 non-null   int64  \n",
            " 44  2ndFlrSF       1459 non-null   int64  \n",
            " 45  LowQualFinSF   1459 non-null   int64  \n",
            " 46  GrLivArea      1459 non-null   int64  \n",
            " 47  BsmtFullBath   1457 non-null   float64\n",
            " 48  BsmtHalfBath   1457 non-null   float64\n",
            " 49  FullBath       1459 non-null   int64  \n",
            " 50  HalfBath       1459 non-null   int64  \n",
            " 51  BedroomAbvGr   1459 non-null   int64  \n",
            " 52  KitchenAbvGr   1459 non-null   int64  \n",
            " 53  KitchenQual    1458 non-null   object \n",
            " 54  TotRmsAbvGrd   1459 non-null   int64  \n",
            " 55  Functional     1457 non-null   object \n",
            " 56  Fireplaces     1459 non-null   int64  \n",
            " 57  FireplaceQu    729 non-null    object \n",
            " 58  GarageType     1383 non-null   object \n",
            " 59  GarageYrBlt    1381 non-null   float64\n",
            " 60  GarageFinish   1381 non-null   object \n",
            " 61  GarageCars     1458 non-null   float64\n",
            " 62  GarageArea     1458 non-null   float64\n",
            " 63  GarageQual     1381 non-null   object \n",
            " 64  GarageCond     1381 non-null   object \n",
            " 65  PavedDrive     1459 non-null   object \n",
            " 66  WoodDeckSF     1459 non-null   int64  \n",
            " 67  OpenPorchSF    1459 non-null   int64  \n",
            " 68  EnclosedPorch  1459 non-null   int64  \n",
            " 69  3SsnPorch      1459 non-null   int64  \n",
            " 70  ScreenPorch    1459 non-null   int64  \n",
            " 71  PoolArea       1459 non-null   int64  \n",
            " 72  PoolQC         3 non-null      object \n",
            " 73  Fence          290 non-null    object \n",
            " 74  MiscFeature    51 non-null     object \n",
            " 75  MiscVal        1459 non-null   int64  \n",
            " 76  MoSold         1459 non-null   int64  \n",
            " 77  YrSold         1459 non-null   int64  \n",
            " 78  SaleType       1458 non-null   object \n",
            " 79  SaleCondition  1459 non-null   object \n",
            "dtypes: float64(11), int64(26), object(43)\n",
            "memory usage: 912.0+ KB\n"
          ]
        }
      ]
    },
    {
      "cell_type": "markdown",
      "source": [
        "#Data Cleaning\n",
        "- Identification and Treatment of Null Values\n",
        "- Identification and Treatment of Duplicates\n",
        "- Converting Data Type as required"
      ],
      "metadata": {
        "id": "He8FWE42JxzE"
      }
    },
    {
      "cell_type": "code",
      "source": [
        "# Find columns with null values and their counts\n",
        "null_counts = dftrain.isnull().sum()\n",
        "null_info = null_counts[null_counts > 0].reset_index()\n",
        "null_info.columns = ['Column_Name', 'Null_Count']\n",
        "\n",
        "# Display the result\n",
        "print(null_info)"
      ],
      "metadata": {
        "id": "FrVS4o3OvVYa",
        "colab": {
          "base_uri": "https://localhost:8080/"
        },
        "outputId": "dd3e6298-67c6-44d1-c2af-4c856c0a20a2"
      },
      "execution_count": 169,
      "outputs": [
        {
          "output_type": "stream",
          "name": "stdout",
          "text": [
            "     Column_Name  Null_Count\n",
            "0    LotFrontage         259\n",
            "1          Alley        1369\n",
            "2     MasVnrType         872\n",
            "3     MasVnrArea           8\n",
            "4       BsmtQual          37\n",
            "5       BsmtCond          37\n",
            "6   BsmtExposure          38\n",
            "7   BsmtFinType1          37\n",
            "8   BsmtFinType2          38\n",
            "9     Electrical           1\n",
            "10   FireplaceQu         690\n",
            "11    GarageType          81\n",
            "12   GarageYrBlt          81\n",
            "13  GarageFinish          81\n",
            "14    GarageQual          81\n",
            "15    GarageCond          81\n",
            "16        PoolQC        1453\n",
            "17         Fence        1179\n",
            "18   MiscFeature        1406\n"
          ]
        }
      ]
    },
    {
      "cell_type": "code",
      "source": [
        "print(f'duplicated values: {dftrain.duplicated().sum().item()}')"
      ],
      "metadata": {
        "colab": {
          "base_uri": "https://localhost:8080/"
        },
        "id": "XFYhuRziJfu6",
        "outputId": "59c11577-0f5e-4af5-dd21-dfa948c4f4cd"
      },
      "execution_count": 170,
      "outputs": [
        {
          "output_type": "stream",
          "name": "stdout",
          "text": [
            "duplicated values: 0\n"
          ]
        }
      ]
    },
    {
      "cell_type": "code",
      "source": [
        "# Find columns with null values and their counts\n",
        "null_counts = dftest.isnull().sum()\n",
        "null_info = null_counts[null_counts > 0].reset_index()\n",
        "null_info.columns = ['Column_Name', 'Null_Count']\n",
        "\n",
        "# Display the result\n",
        "print(null_info)"
      ],
      "metadata": {
        "colab": {
          "base_uri": "https://localhost:8080/"
        },
        "id": "6nO-NpO7JuTM",
        "outputId": "a0757d37-5920-48dc-e311-9f70e0cde563"
      },
      "execution_count": 171,
      "outputs": [
        {
          "output_type": "stream",
          "name": "stdout",
          "text": [
            "     Column_Name  Null_Count\n",
            "0       MSZoning           4\n",
            "1    LotFrontage         227\n",
            "2          Alley        1352\n",
            "3      Utilities           2\n",
            "4    Exterior1st           1\n",
            "5    Exterior2nd           1\n",
            "6     MasVnrType         894\n",
            "7     MasVnrArea          15\n",
            "8       BsmtQual          44\n",
            "9       BsmtCond          45\n",
            "10  BsmtExposure          44\n",
            "11  BsmtFinType1          42\n",
            "12    BsmtFinSF1           1\n",
            "13  BsmtFinType2          42\n",
            "14    BsmtFinSF2           1\n",
            "15     BsmtUnfSF           1\n",
            "16   TotalBsmtSF           1\n",
            "17  BsmtFullBath           2\n",
            "18  BsmtHalfBath           2\n",
            "19   KitchenQual           1\n",
            "20    Functional           2\n",
            "21   FireplaceQu         730\n",
            "22    GarageType          76\n",
            "23   GarageYrBlt          78\n",
            "24  GarageFinish          78\n",
            "25    GarageCars           1\n",
            "26    GarageArea           1\n",
            "27    GarageQual          78\n",
            "28    GarageCond          78\n",
            "29        PoolQC        1456\n",
            "30         Fence        1169\n",
            "31   MiscFeature        1408\n",
            "32      SaleType           1\n"
          ]
        }
      ]
    },
    {
      "cell_type": "code",
      "source": [
        "print(f'duplicated values: {dftest.duplicated().sum().item()}')"
      ],
      "metadata": {
        "colab": {
          "base_uri": "https://localhost:8080/"
        },
        "id": "ZEt-77kZKjHM",
        "outputId": "3e297c8b-a876-41ec-c8c6-20a1ba98b755"
      },
      "execution_count": 172,
      "outputs": [
        {
          "output_type": "stream",
          "name": "stdout",
          "text": [
            "duplicated values: 0\n"
          ]
        }
      ]
    },
    {
      "cell_type": "code",
      "source": [
        "dftrain.drop(columns=['Id', 'Alley', 'PoolQC', 'Fence', 'MiscFeature'], inplace=True)"
      ],
      "metadata": {
        "id": "ER-9XJawK0D1"
      },
      "execution_count": 173,
      "outputs": []
    },
    {
      "cell_type": "code",
      "source": [
        "dftest.drop(columns=['Id', 'Alley', 'PoolQC', 'Fence', 'MiscFeature'], inplace=True)"
      ],
      "metadata": {
        "id": "XVHMzvhqK4dN"
      },
      "execution_count": 174,
      "outputs": []
    },
    {
      "cell_type": "code",
      "source": [
        "with pd.option_context('display.max_columns', None):\n",
        "    print(dftrain)"
      ],
      "metadata": {
        "colab": {
          "base_uri": "https://localhost:8080/"
        },
        "id": "W81ow8IlK7lr",
        "outputId": "310bf2cc-ef4f-4b8d-9fda-2987f116910a"
      },
      "execution_count": 175,
      "outputs": [
        {
          "output_type": "stream",
          "name": "stdout",
          "text": [
            "      MSSubClass MSZoning  LotFrontage  LotArea Street LotShape LandContour  \\\n",
            "0             60       RL         65.0     8450   Pave      Reg         Lvl   \n",
            "1             20       RL         80.0     9600   Pave      Reg         Lvl   \n",
            "2             60       RL         68.0    11250   Pave      IR1         Lvl   \n",
            "3             70       RL         60.0     9550   Pave      IR1         Lvl   \n",
            "4             60       RL         84.0    14260   Pave      IR1         Lvl   \n",
            "...          ...      ...          ...      ...    ...      ...         ...   \n",
            "1455          60       RL         62.0     7917   Pave      Reg         Lvl   \n",
            "1456          20       RL         85.0    13175   Pave      Reg         Lvl   \n",
            "1457          70       RL         66.0     9042   Pave      Reg         Lvl   \n",
            "1458          20       RL         68.0     9717   Pave      Reg         Lvl   \n",
            "1459          20       RL         75.0     9937   Pave      Reg         Lvl   \n",
            "\n",
            "     Utilities LotConfig LandSlope Neighborhood Condition1 Condition2  \\\n",
            "0       AllPub    Inside       Gtl      CollgCr       Norm       Norm   \n",
            "1       AllPub       FR2       Gtl      Veenker      Feedr       Norm   \n",
            "2       AllPub    Inside       Gtl      CollgCr       Norm       Norm   \n",
            "3       AllPub    Corner       Gtl      Crawfor       Norm       Norm   \n",
            "4       AllPub       FR2       Gtl      NoRidge       Norm       Norm   \n",
            "...        ...       ...       ...          ...        ...        ...   \n",
            "1455    AllPub    Inside       Gtl      Gilbert       Norm       Norm   \n",
            "1456    AllPub    Inside       Gtl       NWAmes       Norm       Norm   \n",
            "1457    AllPub    Inside       Gtl      Crawfor       Norm       Norm   \n",
            "1458    AllPub    Inside       Gtl        NAmes       Norm       Norm   \n",
            "1459    AllPub    Inside       Gtl      Edwards       Norm       Norm   \n",
            "\n",
            "     BldgType HouseStyle  OverallQual  OverallCond  YearBuilt  YearRemodAdd  \\\n",
            "0        1Fam     2Story            7            5       2003          2003   \n",
            "1        1Fam     1Story            6            8       1976          1976   \n",
            "2        1Fam     2Story            7            5       2001          2002   \n",
            "3        1Fam     2Story            7            5       1915          1970   \n",
            "4        1Fam     2Story            8            5       2000          2000   \n",
            "...       ...        ...          ...          ...        ...           ...   \n",
            "1455     1Fam     2Story            6            5       1999          2000   \n",
            "1456     1Fam     1Story            6            6       1978          1988   \n",
            "1457     1Fam     2Story            7            9       1941          2006   \n",
            "1458     1Fam     1Story            5            6       1950          1996   \n",
            "1459     1Fam     1Story            5            6       1965          1965   \n",
            "\n",
            "     RoofStyle RoofMatl Exterior1st Exterior2nd MasVnrType  MasVnrArea  \\\n",
            "0        Gable  CompShg     VinylSd     VinylSd    BrkFace       196.0   \n",
            "1        Gable  CompShg     MetalSd     MetalSd        NaN         0.0   \n",
            "2        Gable  CompShg     VinylSd     VinylSd    BrkFace       162.0   \n",
            "3        Gable  CompShg     Wd Sdng     Wd Shng        NaN         0.0   \n",
            "4        Gable  CompShg     VinylSd     VinylSd    BrkFace       350.0   \n",
            "...        ...      ...         ...         ...        ...         ...   \n",
            "1455     Gable  CompShg     VinylSd     VinylSd        NaN         0.0   \n",
            "1456     Gable  CompShg     Plywood     Plywood      Stone       119.0   \n",
            "1457     Gable  CompShg     CemntBd     CmentBd        NaN         0.0   \n",
            "1458       Hip  CompShg     MetalSd     MetalSd        NaN         0.0   \n",
            "1459     Gable  CompShg     HdBoard     HdBoard        NaN         0.0   \n",
            "\n",
            "     ExterQual ExterCond Foundation BsmtQual BsmtCond BsmtExposure  \\\n",
            "0           Gd        TA      PConc       Gd       TA           No   \n",
            "1           TA        TA     CBlock       Gd       TA           Gd   \n",
            "2           Gd        TA      PConc       Gd       TA           Mn   \n",
            "3           TA        TA     BrkTil       TA       Gd           No   \n",
            "4           Gd        TA      PConc       Gd       TA           Av   \n",
            "...        ...       ...        ...      ...      ...          ...   \n",
            "1455        TA        TA      PConc       Gd       TA           No   \n",
            "1456        TA        TA     CBlock       Gd       TA           No   \n",
            "1457        Ex        Gd      Stone       TA       Gd           No   \n",
            "1458        TA        TA     CBlock       TA       TA           Mn   \n",
            "1459        Gd        TA     CBlock       TA       TA           No   \n",
            "\n",
            "     BsmtFinType1  BsmtFinSF1 BsmtFinType2  BsmtFinSF2  BsmtUnfSF  \\\n",
            "0             GLQ         706          Unf           0        150   \n",
            "1             ALQ         978          Unf           0        284   \n",
            "2             GLQ         486          Unf           0        434   \n",
            "3             ALQ         216          Unf           0        540   \n",
            "4             GLQ         655          Unf           0        490   \n",
            "...           ...         ...          ...         ...        ...   \n",
            "1455          Unf           0          Unf           0        953   \n",
            "1456          ALQ         790          Rec         163        589   \n",
            "1457          GLQ         275          Unf           0        877   \n",
            "1458          GLQ          49          Rec        1029          0   \n",
            "1459          BLQ         830          LwQ         290        136   \n",
            "\n",
            "      TotalBsmtSF Heating HeatingQC CentralAir Electrical  1stFlrSF  2ndFlrSF  \\\n",
            "0             856    GasA        Ex          Y      SBrkr       856       854   \n",
            "1            1262    GasA        Ex          Y      SBrkr      1262         0   \n",
            "2             920    GasA        Ex          Y      SBrkr       920       866   \n",
            "3             756    GasA        Gd          Y      SBrkr       961       756   \n",
            "4            1145    GasA        Ex          Y      SBrkr      1145      1053   \n",
            "...           ...     ...       ...        ...        ...       ...       ...   \n",
            "1455          953    GasA        Ex          Y      SBrkr       953       694   \n",
            "1456         1542    GasA        TA          Y      SBrkr      2073         0   \n",
            "1457         1152    GasA        Ex          Y      SBrkr      1188      1152   \n",
            "1458         1078    GasA        Gd          Y      FuseA      1078         0   \n",
            "1459         1256    GasA        Gd          Y      SBrkr      1256         0   \n",
            "\n",
            "      LowQualFinSF  GrLivArea  BsmtFullBath  BsmtHalfBath  FullBath  HalfBath  \\\n",
            "0                0       1710             1             0         2         1   \n",
            "1                0       1262             0             1         2         0   \n",
            "2                0       1786             1             0         2         1   \n",
            "3                0       1717             1             0         1         0   \n",
            "4                0       2198             1             0         2         1   \n",
            "...            ...        ...           ...           ...       ...       ...   \n",
            "1455             0       1647             0             0         2         1   \n",
            "1456             0       2073             1             0         2         0   \n",
            "1457             0       2340             0             0         2         0   \n",
            "1458             0       1078             1             0         1         0   \n",
            "1459             0       1256             1             0         1         1   \n",
            "\n",
            "      BedroomAbvGr  KitchenAbvGr KitchenQual  TotRmsAbvGrd Functional  \\\n",
            "0                3             1          Gd             8        Typ   \n",
            "1                3             1          TA             6        Typ   \n",
            "2                3             1          Gd             6        Typ   \n",
            "3                3             1          Gd             7        Typ   \n",
            "4                4             1          Gd             9        Typ   \n",
            "...            ...           ...         ...           ...        ...   \n",
            "1455             3             1          TA             7        Typ   \n",
            "1456             3             1          TA             7       Min1   \n",
            "1457             4             1          Gd             9        Typ   \n",
            "1458             2             1          Gd             5        Typ   \n",
            "1459             3             1          TA             6        Typ   \n",
            "\n",
            "      Fireplaces FireplaceQu GarageType  GarageYrBlt GarageFinish  GarageCars  \\\n",
            "0              0         NaN     Attchd       2003.0          RFn           2   \n",
            "1              1          TA     Attchd       1976.0          RFn           2   \n",
            "2              1          TA     Attchd       2001.0          RFn           2   \n",
            "3              1          Gd     Detchd       1998.0          Unf           3   \n",
            "4              1          TA     Attchd       2000.0          RFn           3   \n",
            "...          ...         ...        ...          ...          ...         ...   \n",
            "1455           1          TA     Attchd       1999.0          RFn           2   \n",
            "1456           2          TA     Attchd       1978.0          Unf           2   \n",
            "1457           2          Gd     Attchd       1941.0          RFn           1   \n",
            "1458           0         NaN     Attchd       1950.0          Unf           1   \n",
            "1459           0         NaN     Attchd       1965.0          Fin           1   \n",
            "\n",
            "      GarageArea GarageQual GarageCond PavedDrive  WoodDeckSF  OpenPorchSF  \\\n",
            "0            548         TA         TA          Y           0           61   \n",
            "1            460         TA         TA          Y         298            0   \n",
            "2            608         TA         TA          Y           0           42   \n",
            "3            642         TA         TA          Y           0           35   \n",
            "4            836         TA         TA          Y         192           84   \n",
            "...          ...        ...        ...        ...         ...          ...   \n",
            "1455         460         TA         TA          Y           0           40   \n",
            "1456         500         TA         TA          Y         349            0   \n",
            "1457         252         TA         TA          Y           0           60   \n",
            "1458         240         TA         TA          Y         366            0   \n",
            "1459         276         TA         TA          Y         736           68   \n",
            "\n",
            "      EnclosedPorch  3SsnPorch  ScreenPorch  PoolArea  MiscVal  MoSold  \\\n",
            "0                 0          0            0         0        0       2   \n",
            "1                 0          0            0         0        0       5   \n",
            "2                 0          0            0         0        0       9   \n",
            "3               272          0            0         0        0       2   \n",
            "4                 0          0            0         0        0      12   \n",
            "...             ...        ...          ...       ...      ...     ...   \n",
            "1455              0          0            0         0        0       8   \n",
            "1456              0          0            0         0        0       2   \n",
            "1457              0          0            0         0     2500       5   \n",
            "1458            112          0            0         0        0       4   \n",
            "1459              0          0            0         0        0       6   \n",
            "\n",
            "      YrSold SaleType SaleCondition  SalePrice  \n",
            "0       2008       WD        Normal     208500  \n",
            "1       2007       WD        Normal     181500  \n",
            "2       2008       WD        Normal     223500  \n",
            "3       2006       WD       Abnorml     140000  \n",
            "4       2008       WD        Normal     250000  \n",
            "...      ...      ...           ...        ...  \n",
            "1455    2007       WD        Normal     175000  \n",
            "1456    2010       WD        Normal     210000  \n",
            "1457    2010       WD        Normal     266500  \n",
            "1458    2010       WD        Normal     142125  \n",
            "1459    2008       WD        Normal     147500  \n",
            "\n",
            "[1460 rows x 76 columns]\n"
          ]
        }
      ]
    },
    {
      "cell_type": "code",
      "source": [
        "dftest.sample(5)"
      ],
      "metadata": {
        "colab": {
          "base_uri": "https://localhost:8080/",
          "height": 255
        },
        "id": "QTj7oI4NLAZN",
        "outputId": "6da18b43-b364-48bb-e463-09f8d69bc29c"
      },
      "execution_count": 176,
      "outputs": [
        {
          "output_type": "execute_result",
          "data": {
            "text/plain": [
              "      MSSubClass MSZoning  LotFrontage  LotArea Street LotShape LandContour  \\\n",
              "827           20       RL         91.0    11825   Pave      Reg         Lvl   \n",
              "1272          20       RL         80.0     9600   Pave      Reg         Lvl   \n",
              "601           20       RL         75.0    10425   Pave      Reg         Lvl   \n",
              "649           30       RL         55.0     7111   Pave      IR1         Bnk   \n",
              "1265          80       RL         80.0     9600   Pave      Reg         Lvl   \n",
              "\n",
              "     Utilities LotConfig LandSlope  ... OpenPorchSF EnclosedPorch 3SsnPorch  \\\n",
              "827     AllPub    Inside       Gtl  ...         112             0         0   \n",
              "1272    AllPub    Inside       Gtl  ...           0           205         0   \n",
              "601     AllPub    Inside       Gtl  ...           0             0         0   \n",
              "649     AllPub    Inside       Gtl  ...           0             0         0   \n",
              "1265    AllPub    Inside       Gtl  ...          78             0         0   \n",
              "\n",
              "     ScreenPorch PoolArea  MiscVal  MoSold  YrSold  SaleType SaleCondition  \n",
              "827            0        0        0       6    2007       New       Partial  \n",
              "1272           0        0        0       6    2006        WD        Normal  \n",
              "601            0        0        0       4    2008        WD        Normal  \n",
              "649            0        0        0       7    2008        WD        Normal  \n",
              "1265           0        0        0       7    2006        WD        Normal  \n",
              "\n",
              "[5 rows x 75 columns]"
            ],
            "text/html": [
              "\n",
              "  <div id=\"df-d9140946-b595-406d-837e-7fe27299fb6d\" class=\"colab-df-container\">\n",
              "    <div>\n",
              "<style scoped>\n",
              "    .dataframe tbody tr th:only-of-type {\n",
              "        vertical-align: middle;\n",
              "    }\n",
              "\n",
              "    .dataframe tbody tr th {\n",
              "        vertical-align: top;\n",
              "    }\n",
              "\n",
              "    .dataframe thead th {\n",
              "        text-align: right;\n",
              "    }\n",
              "</style>\n",
              "<table border=\"1\" class=\"dataframe\">\n",
              "  <thead>\n",
              "    <tr style=\"text-align: right;\">\n",
              "      <th></th>\n",
              "      <th>MSSubClass</th>\n",
              "      <th>MSZoning</th>\n",
              "      <th>LotFrontage</th>\n",
              "      <th>LotArea</th>\n",
              "      <th>Street</th>\n",
              "      <th>LotShape</th>\n",
              "      <th>LandContour</th>\n",
              "      <th>Utilities</th>\n",
              "      <th>LotConfig</th>\n",
              "      <th>LandSlope</th>\n",
              "      <th>...</th>\n",
              "      <th>OpenPorchSF</th>\n",
              "      <th>EnclosedPorch</th>\n",
              "      <th>3SsnPorch</th>\n",
              "      <th>ScreenPorch</th>\n",
              "      <th>PoolArea</th>\n",
              "      <th>MiscVal</th>\n",
              "      <th>MoSold</th>\n",
              "      <th>YrSold</th>\n",
              "      <th>SaleType</th>\n",
              "      <th>SaleCondition</th>\n",
              "    </tr>\n",
              "  </thead>\n",
              "  <tbody>\n",
              "    <tr>\n",
              "      <th>827</th>\n",
              "      <td>20</td>\n",
              "      <td>RL</td>\n",
              "      <td>91.0</td>\n",
              "      <td>11825</td>\n",
              "      <td>Pave</td>\n",
              "      <td>Reg</td>\n",
              "      <td>Lvl</td>\n",
              "      <td>AllPub</td>\n",
              "      <td>Inside</td>\n",
              "      <td>Gtl</td>\n",
              "      <td>...</td>\n",
              "      <td>112</td>\n",
              "      <td>0</td>\n",
              "      <td>0</td>\n",
              "      <td>0</td>\n",
              "      <td>0</td>\n",
              "      <td>0</td>\n",
              "      <td>6</td>\n",
              "      <td>2007</td>\n",
              "      <td>New</td>\n",
              "      <td>Partial</td>\n",
              "    </tr>\n",
              "    <tr>\n",
              "      <th>1272</th>\n",
              "      <td>20</td>\n",
              "      <td>RL</td>\n",
              "      <td>80.0</td>\n",
              "      <td>9600</td>\n",
              "      <td>Pave</td>\n",
              "      <td>Reg</td>\n",
              "      <td>Lvl</td>\n",
              "      <td>AllPub</td>\n",
              "      <td>Inside</td>\n",
              "      <td>Gtl</td>\n",
              "      <td>...</td>\n",
              "      <td>0</td>\n",
              "      <td>205</td>\n",
              "      <td>0</td>\n",
              "      <td>0</td>\n",
              "      <td>0</td>\n",
              "      <td>0</td>\n",
              "      <td>6</td>\n",
              "      <td>2006</td>\n",
              "      <td>WD</td>\n",
              "      <td>Normal</td>\n",
              "    </tr>\n",
              "    <tr>\n",
              "      <th>601</th>\n",
              "      <td>20</td>\n",
              "      <td>RL</td>\n",
              "      <td>75.0</td>\n",
              "      <td>10425</td>\n",
              "      <td>Pave</td>\n",
              "      <td>Reg</td>\n",
              "      <td>Lvl</td>\n",
              "      <td>AllPub</td>\n",
              "      <td>Inside</td>\n",
              "      <td>Gtl</td>\n",
              "      <td>...</td>\n",
              "      <td>0</td>\n",
              "      <td>0</td>\n",
              "      <td>0</td>\n",
              "      <td>0</td>\n",
              "      <td>0</td>\n",
              "      <td>0</td>\n",
              "      <td>4</td>\n",
              "      <td>2008</td>\n",
              "      <td>WD</td>\n",
              "      <td>Normal</td>\n",
              "    </tr>\n",
              "    <tr>\n",
              "      <th>649</th>\n",
              "      <td>30</td>\n",
              "      <td>RL</td>\n",
              "      <td>55.0</td>\n",
              "      <td>7111</td>\n",
              "      <td>Pave</td>\n",
              "      <td>IR1</td>\n",
              "      <td>Bnk</td>\n",
              "      <td>AllPub</td>\n",
              "      <td>Inside</td>\n",
              "      <td>Gtl</td>\n",
              "      <td>...</td>\n",
              "      <td>0</td>\n",
              "      <td>0</td>\n",
              "      <td>0</td>\n",
              "      <td>0</td>\n",
              "      <td>0</td>\n",
              "      <td>0</td>\n",
              "      <td>7</td>\n",
              "      <td>2008</td>\n",
              "      <td>WD</td>\n",
              "      <td>Normal</td>\n",
              "    </tr>\n",
              "    <tr>\n",
              "      <th>1265</th>\n",
              "      <td>80</td>\n",
              "      <td>RL</td>\n",
              "      <td>80.0</td>\n",
              "      <td>9600</td>\n",
              "      <td>Pave</td>\n",
              "      <td>Reg</td>\n",
              "      <td>Lvl</td>\n",
              "      <td>AllPub</td>\n",
              "      <td>Inside</td>\n",
              "      <td>Gtl</td>\n",
              "      <td>...</td>\n",
              "      <td>78</td>\n",
              "      <td>0</td>\n",
              "      <td>0</td>\n",
              "      <td>0</td>\n",
              "      <td>0</td>\n",
              "      <td>0</td>\n",
              "      <td>7</td>\n",
              "      <td>2006</td>\n",
              "      <td>WD</td>\n",
              "      <td>Normal</td>\n",
              "    </tr>\n",
              "  </tbody>\n",
              "</table>\n",
              "<p>5 rows × 75 columns</p>\n",
              "</div>\n",
              "    <div class=\"colab-df-buttons\">\n",
              "\n",
              "  <div class=\"colab-df-container\">\n",
              "    <button class=\"colab-df-convert\" onclick=\"convertToInteractive('df-d9140946-b595-406d-837e-7fe27299fb6d')\"\n",
              "            title=\"Convert this dataframe to an interactive table.\"\n",
              "            style=\"display:none;\">\n",
              "\n",
              "  <svg xmlns=\"http://www.w3.org/2000/svg\" height=\"24px\" viewBox=\"0 -960 960 960\">\n",
              "    <path d=\"M120-120v-720h720v720H120Zm60-500h600v-160H180v160Zm220 220h160v-160H400v160Zm0 220h160v-160H400v160ZM180-400h160v-160H180v160Zm440 0h160v-160H620v160ZM180-180h160v-160H180v160Zm440 0h160v-160H620v160Z\"/>\n",
              "  </svg>\n",
              "    </button>\n",
              "\n",
              "  <style>\n",
              "    .colab-df-container {\n",
              "      display:flex;\n",
              "      gap: 12px;\n",
              "    }\n",
              "\n",
              "    .colab-df-convert {\n",
              "      background-color: #E8F0FE;\n",
              "      border: none;\n",
              "      border-radius: 50%;\n",
              "      cursor: pointer;\n",
              "      display: none;\n",
              "      fill: #1967D2;\n",
              "      height: 32px;\n",
              "      padding: 0 0 0 0;\n",
              "      width: 32px;\n",
              "    }\n",
              "\n",
              "    .colab-df-convert:hover {\n",
              "      background-color: #E2EBFA;\n",
              "      box-shadow: 0px 1px 2px rgba(60, 64, 67, 0.3), 0px 1px 3px 1px rgba(60, 64, 67, 0.15);\n",
              "      fill: #174EA6;\n",
              "    }\n",
              "\n",
              "    .colab-df-buttons div {\n",
              "      margin-bottom: 4px;\n",
              "    }\n",
              "\n",
              "    [theme=dark] .colab-df-convert {\n",
              "      background-color: #3B4455;\n",
              "      fill: #D2E3FC;\n",
              "    }\n",
              "\n",
              "    [theme=dark] .colab-df-convert:hover {\n",
              "      background-color: #434B5C;\n",
              "      box-shadow: 0px 1px 3px 1px rgba(0, 0, 0, 0.15);\n",
              "      filter: drop-shadow(0px 1px 2px rgba(0, 0, 0, 0.3));\n",
              "      fill: #FFFFFF;\n",
              "    }\n",
              "  </style>\n",
              "\n",
              "    <script>\n",
              "      const buttonEl =\n",
              "        document.querySelector('#df-d9140946-b595-406d-837e-7fe27299fb6d button.colab-df-convert');\n",
              "      buttonEl.style.display =\n",
              "        google.colab.kernel.accessAllowed ? 'block' : 'none';\n",
              "\n",
              "      async function convertToInteractive(key) {\n",
              "        const element = document.querySelector('#df-d9140946-b595-406d-837e-7fe27299fb6d');\n",
              "        const dataTable =\n",
              "          await google.colab.kernel.invokeFunction('convertToInteractive',\n",
              "                                                    [key], {});\n",
              "        if (!dataTable) return;\n",
              "\n",
              "        const docLinkHtml = 'Like what you see? Visit the ' +\n",
              "          '<a target=\"_blank\" href=https://colab.research.google.com/notebooks/data_table.ipynb>data table notebook</a>'\n",
              "          + ' to learn more about interactive tables.';\n",
              "        element.innerHTML = '';\n",
              "        dataTable['output_type'] = 'display_data';\n",
              "        await google.colab.output.renderOutput(dataTable, element);\n",
              "        const docLink = document.createElement('div');\n",
              "        docLink.innerHTML = docLinkHtml;\n",
              "        element.appendChild(docLink);\n",
              "      }\n",
              "    </script>\n",
              "  </div>\n",
              "\n",
              "\n",
              "<div id=\"df-7e2de9f1-01d0-44c4-ad5a-58be1deb13ee\">\n",
              "  <button class=\"colab-df-quickchart\" onclick=\"quickchart('df-7e2de9f1-01d0-44c4-ad5a-58be1deb13ee')\"\n",
              "            title=\"Suggest charts\"\n",
              "            style=\"display:none;\">\n",
              "\n",
              "<svg xmlns=\"http://www.w3.org/2000/svg\" height=\"24px\"viewBox=\"0 0 24 24\"\n",
              "     width=\"24px\">\n",
              "    <g>\n",
              "        <path d=\"M19 3H5c-1.1 0-2 .9-2 2v14c0 1.1.9 2 2 2h14c1.1 0 2-.9 2-2V5c0-1.1-.9-2-2-2zM9 17H7v-7h2v7zm4 0h-2V7h2v10zm4 0h-2v-4h2v4z\"/>\n",
              "    </g>\n",
              "</svg>\n",
              "  </button>\n",
              "\n",
              "<style>\n",
              "  .colab-df-quickchart {\n",
              "      --bg-color: #E8F0FE;\n",
              "      --fill-color: #1967D2;\n",
              "      --hover-bg-color: #E2EBFA;\n",
              "      --hover-fill-color: #174EA6;\n",
              "      --disabled-fill-color: #AAA;\n",
              "      --disabled-bg-color: #DDD;\n",
              "  }\n",
              "\n",
              "  [theme=dark] .colab-df-quickchart {\n",
              "      --bg-color: #3B4455;\n",
              "      --fill-color: #D2E3FC;\n",
              "      --hover-bg-color: #434B5C;\n",
              "      --hover-fill-color: #FFFFFF;\n",
              "      --disabled-bg-color: #3B4455;\n",
              "      --disabled-fill-color: #666;\n",
              "  }\n",
              "\n",
              "  .colab-df-quickchart {\n",
              "    background-color: var(--bg-color);\n",
              "    border: none;\n",
              "    border-radius: 50%;\n",
              "    cursor: pointer;\n",
              "    display: none;\n",
              "    fill: var(--fill-color);\n",
              "    height: 32px;\n",
              "    padding: 0;\n",
              "    width: 32px;\n",
              "  }\n",
              "\n",
              "  .colab-df-quickchart:hover {\n",
              "    background-color: var(--hover-bg-color);\n",
              "    box-shadow: 0 1px 2px rgba(60, 64, 67, 0.3), 0 1px 3px 1px rgba(60, 64, 67, 0.15);\n",
              "    fill: var(--button-hover-fill-color);\n",
              "  }\n",
              "\n",
              "  .colab-df-quickchart-complete:disabled,\n",
              "  .colab-df-quickchart-complete:disabled:hover {\n",
              "    background-color: var(--disabled-bg-color);\n",
              "    fill: var(--disabled-fill-color);\n",
              "    box-shadow: none;\n",
              "  }\n",
              "\n",
              "  .colab-df-spinner {\n",
              "    border: 2px solid var(--fill-color);\n",
              "    border-color: transparent;\n",
              "    border-bottom-color: var(--fill-color);\n",
              "    animation:\n",
              "      spin 1s steps(1) infinite;\n",
              "  }\n",
              "\n",
              "  @keyframes spin {\n",
              "    0% {\n",
              "      border-color: transparent;\n",
              "      border-bottom-color: var(--fill-color);\n",
              "      border-left-color: var(--fill-color);\n",
              "    }\n",
              "    20% {\n",
              "      border-color: transparent;\n",
              "      border-left-color: var(--fill-color);\n",
              "      border-top-color: var(--fill-color);\n",
              "    }\n",
              "    30% {\n",
              "      border-color: transparent;\n",
              "      border-left-color: var(--fill-color);\n",
              "      border-top-color: var(--fill-color);\n",
              "      border-right-color: var(--fill-color);\n",
              "    }\n",
              "    40% {\n",
              "      border-color: transparent;\n",
              "      border-right-color: var(--fill-color);\n",
              "      border-top-color: var(--fill-color);\n",
              "    }\n",
              "    60% {\n",
              "      border-color: transparent;\n",
              "      border-right-color: var(--fill-color);\n",
              "    }\n",
              "    80% {\n",
              "      border-color: transparent;\n",
              "      border-right-color: var(--fill-color);\n",
              "      border-bottom-color: var(--fill-color);\n",
              "    }\n",
              "    90% {\n",
              "      border-color: transparent;\n",
              "      border-bottom-color: var(--fill-color);\n",
              "    }\n",
              "  }\n",
              "</style>\n",
              "\n",
              "  <script>\n",
              "    async function quickchart(key) {\n",
              "      const quickchartButtonEl =\n",
              "        document.querySelector('#' + key + ' button');\n",
              "      quickchartButtonEl.disabled = true;  // To prevent multiple clicks.\n",
              "      quickchartButtonEl.classList.add('colab-df-spinner');\n",
              "      try {\n",
              "        const charts = await google.colab.kernel.invokeFunction(\n",
              "            'suggestCharts', [key], {});\n",
              "      } catch (error) {\n",
              "        console.error('Error during call to suggestCharts:', error);\n",
              "      }\n",
              "      quickchartButtonEl.classList.remove('colab-df-spinner');\n",
              "      quickchartButtonEl.classList.add('colab-df-quickchart-complete');\n",
              "    }\n",
              "    (() => {\n",
              "      let quickchartButtonEl =\n",
              "        document.querySelector('#df-7e2de9f1-01d0-44c4-ad5a-58be1deb13ee button');\n",
              "      quickchartButtonEl.style.display =\n",
              "        google.colab.kernel.accessAllowed ? 'block' : 'none';\n",
              "    })();\n",
              "  </script>\n",
              "</div>\n",
              "\n",
              "    </div>\n",
              "  </div>\n"
            ],
            "application/vnd.google.colaboratory.intrinsic+json": {
              "type": "dataframe"
            }
          },
          "metadata": {},
          "execution_count": 176
        }
      ]
    },
    {
      "cell_type": "code",
      "source": [
        "# Create a DataFrame with column name, number of unique values, and datatype\n",
        "column_summary = pd.DataFrame({\n",
        "    'Column_Name': dftrain.columns,\n",
        "    'Unique_Values': dftrain.nunique(),\n",
        "    'Data_Type': dftrain.dtypes\n",
        "}).reset_index(drop=True)"
      ],
      "metadata": {
        "id": "XCEKQvYYLz3U"
      },
      "execution_count": 177,
      "outputs": []
    },
    {
      "cell_type": "code",
      "source": [
        "# Assuming your DataFrame is named df\n",
        "with pd.option_context('display.max_rows', None):\n",
        "    print(column_summary)"
      ],
      "metadata": {
        "colab": {
          "base_uri": "https://localhost:8080/"
        },
        "id": "IvVnREIAMApn",
        "outputId": "b2a2251b-1797-406f-8dff-eea4a0d0c368"
      },
      "execution_count": 178,
      "outputs": [
        {
          "output_type": "stream",
          "name": "stdout",
          "text": [
            "      Column_Name  Unique_Values Data_Type\n",
            "0      MSSubClass             15     int64\n",
            "1        MSZoning              5    object\n",
            "2     LotFrontage            110   float64\n",
            "3         LotArea           1073     int64\n",
            "4          Street              2    object\n",
            "5        LotShape              4    object\n",
            "6     LandContour              4    object\n",
            "7       Utilities              2    object\n",
            "8       LotConfig              5    object\n",
            "9       LandSlope              3    object\n",
            "10   Neighborhood             25    object\n",
            "11     Condition1              9    object\n",
            "12     Condition2              8    object\n",
            "13       BldgType              5    object\n",
            "14     HouseStyle              8    object\n",
            "15    OverallQual             10     int64\n",
            "16    OverallCond              9     int64\n",
            "17      YearBuilt            112     int64\n",
            "18   YearRemodAdd             61     int64\n",
            "19      RoofStyle              6    object\n",
            "20       RoofMatl              8    object\n",
            "21    Exterior1st             15    object\n",
            "22    Exterior2nd             16    object\n",
            "23     MasVnrType              3    object\n",
            "24     MasVnrArea            327   float64\n",
            "25      ExterQual              4    object\n",
            "26      ExterCond              5    object\n",
            "27     Foundation              6    object\n",
            "28       BsmtQual              4    object\n",
            "29       BsmtCond              4    object\n",
            "30   BsmtExposure              4    object\n",
            "31   BsmtFinType1              6    object\n",
            "32     BsmtFinSF1            637     int64\n",
            "33   BsmtFinType2              6    object\n",
            "34     BsmtFinSF2            144     int64\n",
            "35      BsmtUnfSF            780     int64\n",
            "36    TotalBsmtSF            721     int64\n",
            "37        Heating              6    object\n",
            "38      HeatingQC              5    object\n",
            "39     CentralAir              2    object\n",
            "40     Electrical              5    object\n",
            "41       1stFlrSF            753     int64\n",
            "42       2ndFlrSF            417     int64\n",
            "43   LowQualFinSF             24     int64\n",
            "44      GrLivArea            861     int64\n",
            "45   BsmtFullBath              4     int64\n",
            "46   BsmtHalfBath              3     int64\n",
            "47       FullBath              4     int64\n",
            "48       HalfBath              3     int64\n",
            "49   BedroomAbvGr              8     int64\n",
            "50   KitchenAbvGr              4     int64\n",
            "51    KitchenQual              4    object\n",
            "52   TotRmsAbvGrd             12     int64\n",
            "53     Functional              7    object\n",
            "54     Fireplaces              4     int64\n",
            "55    FireplaceQu              5    object\n",
            "56     GarageType              6    object\n",
            "57    GarageYrBlt             97   float64\n",
            "58   GarageFinish              3    object\n",
            "59     GarageCars              5     int64\n",
            "60     GarageArea            441     int64\n",
            "61     GarageQual              5    object\n",
            "62     GarageCond              5    object\n",
            "63     PavedDrive              3    object\n",
            "64     WoodDeckSF            274     int64\n",
            "65    OpenPorchSF            202     int64\n",
            "66  EnclosedPorch            120     int64\n",
            "67      3SsnPorch             20     int64\n",
            "68    ScreenPorch             76     int64\n",
            "69       PoolArea              8     int64\n",
            "70        MiscVal             21     int64\n",
            "71         MoSold             12     int64\n",
            "72         YrSold              5     int64\n",
            "73       SaleType              9    object\n",
            "74  SaleCondition              6    object\n",
            "75      SalePrice            663     int64\n"
          ]
        }
      ]
    },
    {
      "cell_type": "code",
      "source": [
        "'''from google.colab import files\n",
        "\n",
        "# Save the DataFrame to an Excel file\n",
        "column_summary.to_excel('column_summary.xlsx', index=False)\n",
        "\n",
        "# Download the Excel file to your laptop\n",
        "files.download('column_summary.xlsx')'''"
      ],
      "metadata": {
        "colab": {
          "base_uri": "https://localhost:8080/",
          "height": 53
        },
        "id": "ThkkoKPLvdbt",
        "outputId": "445e68fe-ef22-43bd-bf2a-3732b72c12cb"
      },
      "execution_count": 179,
      "outputs": [
        {
          "output_type": "execute_result",
          "data": {
            "text/plain": [
              "\"from google.colab import files\\n\\n# Save the DataFrame to an Excel file\\ncolumn_summary.to_excel('column_summary.xlsx', index=False)\\n\\n# Download the Excel file to your laptop\\nfiles.download('column_summary.xlsx')\""
            ],
            "application/vnd.google.colaboratory.intrinsic+json": {
              "type": "string"
            }
          },
          "metadata": {},
          "execution_count": 179
        }
      ]
    },
    {
      "cell_type": "code",
      "source": [
        "dftrain['MSSubClass']=dftrain['MSSubClass'].astype('category')\n",
        "dftrain['MoSold']=dftrain['MoSold'].astype('category')"
      ],
      "metadata": {
        "id": "Teh5HrkYvdYk"
      },
      "execution_count": 180,
      "outputs": []
    },
    {
      "cell_type": "code",
      "source": [
        "dftest['MSSubClass']=dftest['MSSubClass'].astype('category')\n",
        "dftest['MoSold']=dftest['MoSold'].astype('category')"
      ],
      "metadata": {
        "id": "4zv0OadFvdUm"
      },
      "execution_count": 181,
      "outputs": []
    },
    {
      "cell_type": "code",
      "source": [
        "# Convert all 'object' columns in dftrain and dftest to 'category'\n",
        "dftrain = dftrain.apply(lambda x: x.astype('category') if x.dtype == 'object' else x)\n",
        "dftest = dftest.apply(lambda x: x.astype('category') if x.dtype == 'object' else x)"
      ],
      "metadata": {
        "id": "G_KNFGG9vI74"
      },
      "execution_count": 182,
      "outputs": []
    },
    {
      "cell_type": "code",
      "source": [
        "from sklearn.impute import SimpleImputer"
      ],
      "metadata": {
        "id": "-K8Ju52eUl9p"
      },
      "execution_count": 183,
      "outputs": []
    },
    {
      "cell_type": "code",
      "source": [
        "# Step 1: Separate columns, excluding the target variable\n",
        "target = 'SalePrice'\n",
        "num_cols = dftrain.select_dtypes(include=['float64', 'int64']).columns.drop(target, errors='ignore')\n",
        "cat_cols = dftrain.select_dtypes(include=['category']).columns\n",
        "\n",
        "# Step 2: Impute missing values for numerical columns using the median\n",
        "imputer_median = SimpleImputer(strategy='median')\n",
        "dftrain[num_cols] = imputer_median.fit_transform(dftrain[num_cols])\n",
        "\n",
        "# Step 3: Impute missing values for categorical columns using most_frequent\n",
        "imputer_most = SimpleImputer(strategy='most_frequent')\n",
        "dftrain[cat_cols] = imputer_most.fit_transform(dftrain[cat_cols])\n",
        "\n",
        "# Step 4: Transform the test data\n",
        "# Ensure only matching columns between train and test are transformed\n",
        "num_cols_test = [col for col in num_cols if col in dftest.columns]\n",
        "cat_cols_test = [col for col in cat_cols if col in dftest.columns]\n",
        "\n",
        "dftest[num_cols_test] = imputer_median.transform(dftest[num_cols_test])\n",
        "dftest[cat_cols_test] = imputer_most.transform(dftest[cat_cols_test])"
      ],
      "metadata": {
        "id": "k0K6EYs3U_WR"
      },
      "execution_count": 184,
      "outputs": []
    },
    {
      "cell_type": "code",
      "source": [
        "# Convert all 'object' columns in dftrain and dftest to 'category'\n",
        "dftrain = dftrain.apply(lambda x: x.astype('category') if x.dtype == 'object' else x)\n",
        "dftest = dftest.apply(lambda x: x.astype('category') if x.dtype == 'object' else x)"
      ],
      "metadata": {
        "id": "60xCUbt5BDlJ"
      },
      "execution_count": 185,
      "outputs": []
    },
    {
      "cell_type": "code",
      "source": [
        "dftrain.info()"
      ],
      "metadata": {
        "colab": {
          "base_uri": "https://localhost:8080/"
        },
        "id": "uit5z_O_B1vh",
        "outputId": "c3519f46-af21-4606-b7a4-42976bdfc92e"
      },
      "execution_count": 186,
      "outputs": [
        {
          "output_type": "stream",
          "name": "stdout",
          "text": [
            "<class 'pandas.core.frame.DataFrame'>\n",
            "RangeIndex: 1460 entries, 0 to 1459\n",
            "Data columns (total 76 columns):\n",
            " #   Column         Non-Null Count  Dtype   \n",
            "---  ------         --------------  -----   \n",
            " 0   MSSubClass     1460 non-null   category\n",
            " 1   MSZoning       1460 non-null   category\n",
            " 2   LotFrontage    1460 non-null   float64 \n",
            " 3   LotArea        1460 non-null   float64 \n",
            " 4   Street         1460 non-null   category\n",
            " 5   LotShape       1460 non-null   category\n",
            " 6   LandContour    1460 non-null   category\n",
            " 7   Utilities      1460 non-null   category\n",
            " 8   LotConfig      1460 non-null   category\n",
            " 9   LandSlope      1460 non-null   category\n",
            " 10  Neighborhood   1460 non-null   category\n",
            " 11  Condition1     1460 non-null   category\n",
            " 12  Condition2     1460 non-null   category\n",
            " 13  BldgType       1460 non-null   category\n",
            " 14  HouseStyle     1460 non-null   category\n",
            " 15  OverallQual    1460 non-null   float64 \n",
            " 16  OverallCond    1460 non-null   float64 \n",
            " 17  YearBuilt      1460 non-null   float64 \n",
            " 18  YearRemodAdd   1460 non-null   float64 \n",
            " 19  RoofStyle      1460 non-null   category\n",
            " 20  RoofMatl       1460 non-null   category\n",
            " 21  Exterior1st    1460 non-null   category\n",
            " 22  Exterior2nd    1460 non-null   category\n",
            " 23  MasVnrType     1460 non-null   category\n",
            " 24  MasVnrArea     1460 non-null   float64 \n",
            " 25  ExterQual      1460 non-null   category\n",
            " 26  ExterCond      1460 non-null   category\n",
            " 27  Foundation     1460 non-null   category\n",
            " 28  BsmtQual       1460 non-null   category\n",
            " 29  BsmtCond       1460 non-null   category\n",
            " 30  BsmtExposure   1460 non-null   category\n",
            " 31  BsmtFinType1   1460 non-null   category\n",
            " 32  BsmtFinSF1     1460 non-null   float64 \n",
            " 33  BsmtFinType2   1460 non-null   category\n",
            " 34  BsmtFinSF2     1460 non-null   float64 \n",
            " 35  BsmtUnfSF      1460 non-null   float64 \n",
            " 36  TotalBsmtSF    1460 non-null   float64 \n",
            " 37  Heating        1460 non-null   category\n",
            " 38  HeatingQC      1460 non-null   category\n",
            " 39  CentralAir     1460 non-null   category\n",
            " 40  Electrical     1460 non-null   category\n",
            " 41  1stFlrSF       1460 non-null   float64 \n",
            " 42  2ndFlrSF       1460 non-null   float64 \n",
            " 43  LowQualFinSF   1460 non-null   float64 \n",
            " 44  GrLivArea      1460 non-null   float64 \n",
            " 45  BsmtFullBath   1460 non-null   float64 \n",
            " 46  BsmtHalfBath   1460 non-null   float64 \n",
            " 47  FullBath       1460 non-null   float64 \n",
            " 48  HalfBath       1460 non-null   float64 \n",
            " 49  BedroomAbvGr   1460 non-null   float64 \n",
            " 50  KitchenAbvGr   1460 non-null   float64 \n",
            " 51  KitchenQual    1460 non-null   category\n",
            " 52  TotRmsAbvGrd   1460 non-null   float64 \n",
            " 53  Functional     1460 non-null   category\n",
            " 54  Fireplaces     1460 non-null   float64 \n",
            " 55  FireplaceQu    1460 non-null   category\n",
            " 56  GarageType     1460 non-null   category\n",
            " 57  GarageYrBlt    1460 non-null   float64 \n",
            " 58  GarageFinish   1460 non-null   category\n",
            " 59  GarageCars     1460 non-null   float64 \n",
            " 60  GarageArea     1460 non-null   float64 \n",
            " 61  GarageQual     1460 non-null   category\n",
            " 62  GarageCond     1460 non-null   category\n",
            " 63  PavedDrive     1460 non-null   category\n",
            " 64  WoodDeckSF     1460 non-null   float64 \n",
            " 65  OpenPorchSF    1460 non-null   float64 \n",
            " 66  EnclosedPorch  1460 non-null   float64 \n",
            " 67  3SsnPorch      1460 non-null   float64 \n",
            " 68  ScreenPorch    1460 non-null   float64 \n",
            " 69  PoolArea       1460 non-null   float64 \n",
            " 70  MiscVal        1460 non-null   float64 \n",
            " 71  MoSold         1460 non-null   category\n",
            " 72  YrSold         1460 non-null   float64 \n",
            " 73  SaleType       1460 non-null   category\n",
            " 74  SaleCondition  1460 non-null   category\n",
            " 75  SalePrice      1460 non-null   int64   \n",
            "dtypes: category(41), float64(34), int64(1)\n",
            "memory usage: 468.7 KB\n"
          ]
        }
      ]
    },
    {
      "cell_type": "code",
      "source": [
        "dftest.info()"
      ],
      "metadata": {
        "colab": {
          "base_uri": "https://localhost:8080/"
        },
        "id": "Aw1dmqNeB71q",
        "outputId": "df13adad-c703-4090-c575-105891056e7b"
      },
      "execution_count": 187,
      "outputs": [
        {
          "output_type": "stream",
          "name": "stdout",
          "text": [
            "<class 'pandas.core.frame.DataFrame'>\n",
            "RangeIndex: 1459 entries, 0 to 1458\n",
            "Data columns (total 75 columns):\n",
            " #   Column         Non-Null Count  Dtype   \n",
            "---  ------         --------------  -----   \n",
            " 0   MSSubClass     1459 non-null   category\n",
            " 1   MSZoning       1459 non-null   category\n",
            " 2   LotFrontage    1459 non-null   float64 \n",
            " 3   LotArea        1459 non-null   float64 \n",
            " 4   Street         1459 non-null   category\n",
            " 5   LotShape       1459 non-null   category\n",
            " 6   LandContour    1459 non-null   category\n",
            " 7   Utilities      1459 non-null   category\n",
            " 8   LotConfig      1459 non-null   category\n",
            " 9   LandSlope      1459 non-null   category\n",
            " 10  Neighborhood   1459 non-null   category\n",
            " 11  Condition1     1459 non-null   category\n",
            " 12  Condition2     1459 non-null   category\n",
            " 13  BldgType       1459 non-null   category\n",
            " 14  HouseStyle     1459 non-null   category\n",
            " 15  OverallQual    1459 non-null   float64 \n",
            " 16  OverallCond    1459 non-null   float64 \n",
            " 17  YearBuilt      1459 non-null   float64 \n",
            " 18  YearRemodAdd   1459 non-null   float64 \n",
            " 19  RoofStyle      1459 non-null   category\n",
            " 20  RoofMatl       1459 non-null   category\n",
            " 21  Exterior1st    1459 non-null   category\n",
            " 22  Exterior2nd    1459 non-null   category\n",
            " 23  MasVnrType     1459 non-null   category\n",
            " 24  MasVnrArea     1459 non-null   float64 \n",
            " 25  ExterQual      1459 non-null   category\n",
            " 26  ExterCond      1459 non-null   category\n",
            " 27  Foundation     1459 non-null   category\n",
            " 28  BsmtQual       1459 non-null   category\n",
            " 29  BsmtCond       1459 non-null   category\n",
            " 30  BsmtExposure   1459 non-null   category\n",
            " 31  BsmtFinType1   1459 non-null   category\n",
            " 32  BsmtFinSF1     1459 non-null   float64 \n",
            " 33  BsmtFinType2   1459 non-null   category\n",
            " 34  BsmtFinSF2     1459 non-null   float64 \n",
            " 35  BsmtUnfSF      1459 non-null   float64 \n",
            " 36  TotalBsmtSF    1459 non-null   float64 \n",
            " 37  Heating        1459 non-null   category\n",
            " 38  HeatingQC      1459 non-null   category\n",
            " 39  CentralAir     1459 non-null   category\n",
            " 40  Electrical     1459 non-null   category\n",
            " 41  1stFlrSF       1459 non-null   float64 \n",
            " 42  2ndFlrSF       1459 non-null   float64 \n",
            " 43  LowQualFinSF   1459 non-null   float64 \n",
            " 44  GrLivArea      1459 non-null   float64 \n",
            " 45  BsmtFullBath   1459 non-null   float64 \n",
            " 46  BsmtHalfBath   1459 non-null   float64 \n",
            " 47  FullBath       1459 non-null   float64 \n",
            " 48  HalfBath       1459 non-null   float64 \n",
            " 49  BedroomAbvGr   1459 non-null   float64 \n",
            " 50  KitchenAbvGr   1459 non-null   float64 \n",
            " 51  KitchenQual    1459 non-null   category\n",
            " 52  TotRmsAbvGrd   1459 non-null   float64 \n",
            " 53  Functional     1459 non-null   category\n",
            " 54  Fireplaces     1459 non-null   float64 \n",
            " 55  FireplaceQu    1459 non-null   category\n",
            " 56  GarageType     1459 non-null   category\n",
            " 57  GarageYrBlt    1459 non-null   float64 \n",
            " 58  GarageFinish   1459 non-null   category\n",
            " 59  GarageCars     1459 non-null   float64 \n",
            " 60  GarageArea     1459 non-null   float64 \n",
            " 61  GarageQual     1459 non-null   category\n",
            " 62  GarageCond     1459 non-null   category\n",
            " 63  PavedDrive     1459 non-null   category\n",
            " 64  WoodDeckSF     1459 non-null   float64 \n",
            " 65  OpenPorchSF    1459 non-null   float64 \n",
            " 66  EnclosedPorch  1459 non-null   float64 \n",
            " 67  3SsnPorch      1459 non-null   float64 \n",
            " 68  ScreenPorch    1459 non-null   float64 \n",
            " 69  PoolArea       1459 non-null   float64 \n",
            " 70  MiscVal        1459 non-null   float64 \n",
            " 71  MoSold         1459 non-null   category\n",
            " 72  YrSold         1459 non-null   float64 \n",
            " 73  SaleType       1459 non-null   category\n",
            " 74  SaleCondition  1459 non-null   category\n",
            "dtypes: category(41), float64(34)\n",
            "memory usage: 456.6 KB\n"
          ]
        }
      ]
    },
    {
      "cell_type": "markdown",
      "source": [
        "#Data Preprocessing\n",
        "- Encoding\n",
        "- Scaling"
      ],
      "metadata": {
        "id": "vNJR8nWvK7xU"
      }
    },
    {
      "cell_type": "code",
      "source": [
        "!pip install category_encoders"
      ],
      "metadata": {
        "colab": {
          "base_uri": "https://localhost:8080/"
        },
        "id": "XrkgXUN9KIID",
        "outputId": "2cdddc64-e9a6-4b42-9a6a-57966d8e8504"
      },
      "execution_count": 188,
      "outputs": [
        {
          "output_type": "stream",
          "name": "stdout",
          "text": [
            "Requirement already satisfied: category_encoders in /usr/local/lib/python3.10/dist-packages (2.6.4)\n",
            "Requirement already satisfied: numpy>=1.14.0 in /usr/local/lib/python3.10/dist-packages (from category_encoders) (1.26.4)\n",
            "Requirement already satisfied: scikit-learn>=0.20.0 in /usr/local/lib/python3.10/dist-packages (from category_encoders) (1.5.2)\n",
            "Requirement already satisfied: scipy>=1.0.0 in /usr/local/lib/python3.10/dist-packages (from category_encoders) (1.13.1)\n",
            "Requirement already satisfied: statsmodels>=0.9.0 in /usr/local/lib/python3.10/dist-packages (from category_encoders) (0.14.4)\n",
            "Requirement already satisfied: pandas>=1.0.5 in /usr/local/lib/python3.10/dist-packages (from category_encoders) (2.2.2)\n",
            "Requirement already satisfied: patsy>=0.5.1 in /usr/local/lib/python3.10/dist-packages (from category_encoders) (1.0.1)\n",
            "Requirement already satisfied: python-dateutil>=2.8.2 in /usr/local/lib/python3.10/dist-packages (from pandas>=1.0.5->category_encoders) (2.8.2)\n",
            "Requirement already satisfied: pytz>=2020.1 in /usr/local/lib/python3.10/dist-packages (from pandas>=1.0.5->category_encoders) (2024.2)\n",
            "Requirement already satisfied: tzdata>=2022.7 in /usr/local/lib/python3.10/dist-packages (from pandas>=1.0.5->category_encoders) (2024.2)\n",
            "Requirement already satisfied: joblib>=1.2.0 in /usr/local/lib/python3.10/dist-packages (from scikit-learn>=0.20.0->category_encoders) (1.4.2)\n",
            "Requirement already satisfied: threadpoolctl>=3.1.0 in /usr/local/lib/python3.10/dist-packages (from scikit-learn>=0.20.0->category_encoders) (3.5.0)\n",
            "Requirement already satisfied: packaging>=21.3 in /usr/local/lib/python3.10/dist-packages (from statsmodels>=0.9.0->category_encoders) (24.2)\n",
            "Requirement already satisfied: six>=1.5 in /usr/local/lib/python3.10/dist-packages (from python-dateutil>=2.8.2->pandas>=1.0.5->category_encoders) (1.16.0)\n"
          ]
        }
      ]
    },
    {
      "cell_type": "code",
      "source": [
        "import category_encoders as ce\n",
        "from sklearn.preprocessing import OneHotEncoder\n",
        "from sklearn.feature_selection import chi2"
      ],
      "metadata": {
        "id": "0xJY6gZzKrpb"
      },
      "execution_count": 189,
      "outputs": []
    },
    {
      "cell_type": "code",
      "source": [
        "# Define a function to calculate correlation between categorical columns and the target 'SalePrice'\n",
        "def calculate_correlation(df, target):\n",
        "    # For categorical columns, use Chi-squared test to find correlation with the target\n",
        "    categorical_cols = df.select_dtypes(include=['category', 'object']).columns\n",
        "    correlation_dict = {}\n",
        "\n",
        "    for col in categorical_cols:\n",
        "        # Apply Chi-squared test for independence\n",
        "        contingency_table = pd.crosstab(df[col], df[target])\n",
        "        chi2_stat, p_value = chi2(contingency_table, contingency_table.sum(axis=1))\n",
        "        correlation_dict[col] = p_value[0]  # p-value tells us the correlation strength\n",
        "\n",
        "    return correlation_dict\n",
        "\n",
        "# Define encoding strategies\n",
        "def encode_columns(dftrain, dftest, correlation_dict, target_col='SalePrice'):\n",
        "    encoded_dftrain = dftrain.copy()\n",
        "    encoded_dftest = dftest.copy()\n",
        "\n",
        "    for col in dftrain.select_dtypes(include=['category', 'object']).columns:\n",
        "        unique_values = len(dftrain[col].unique())\n",
        "\n",
        "        # Default to One-Hot Encoding if cardinality is low (<= 10)\n",
        "        if unique_values <= 10:\n",
        "            print(f\"Applying One-Hot Encoding on {col}\")\n",
        "            one_hot_encoder = OneHotEncoder(sparse_output=False, drop='first')\n",
        "            train_encoded = one_hot_encoder.fit_transform(dftrain[[col]])\n",
        "            test_encoded = one_hot_encoder.transform(dftest[[col]])\n",
        "\n",
        "            # Get the column names for the one-hot encoding\n",
        "            encoded_colnames = one_hot_encoder.get_feature_names_out([col])\n",
        "            train_encoded_df = pd.DataFrame(train_encoded, columns=encoded_colnames)\n",
        "            test_encoded_df = pd.DataFrame(test_encoded, columns=encoded_colnames)\n",
        "\n",
        "            # Merge the one-hot encoded columns\n",
        "            encoded_dftrain = encoded_dftrain.join(train_encoded_df)\n",
        "            encoded_dftest = encoded_dftest.join(test_encoded_df)\n",
        "            encoded_dftrain.drop(columns=[col], inplace=True)\n",
        "            encoded_dftest.drop(columns=[col], inplace=True)\n",
        "\n",
        "        elif unique_values > 10:\n",
        "            # Check correlation with the target variable\n",
        "            if correlation_dict.get(col, 1) < 0.05:  # assuming p-value < 0.05 means strong correlation\n",
        "                print(f\"Applying Target Encoding on {col}\")\n",
        "                encoder = ce.TargetEncoder(cols=[col])\n",
        "                encoded_dftrain[col] = encoder.fit_transform(dftrain[col], dftrain[target_col])\n",
        "                encoded_dftest[col] = encoder.transform(dftest[col])\n",
        "            else:\n",
        "                # Weak correlation, use Frequency Encoding\n",
        "                print(f\"Applying Frequency Encoding on {col}\")\n",
        "                freq_map = dftrain[col].value_counts().to_dict()\n",
        "                encoded_dftrain[col] = dftrain[col].map(freq_map)\n",
        "                encoded_dftest[col] = dftest[col].map(freq_map)\n",
        "\n",
        "    return encoded_dftrain, encoded_dftest\n",
        "\n",
        "# 1. Calculate correlation of categorical columns with the target 'SalePrice'\n",
        "correlation_dict = calculate_correlation(dftrain, target='SalePrice')\n",
        "\n",
        "# 2. Encode the categorical columns based on correlation\n",
        "dftrain_encoded, dftest_encoded = encode_columns(dftrain, dftest, correlation_dict)\n",
        "\n",
        "# Check the new dataset with encoded columns\n",
        "print(dftrain_encoded.head())\n",
        "print(dftest_encoded.head())"
      ],
      "metadata": {
        "colab": {
          "base_uri": "https://localhost:8080/"
        },
        "id": "DZuu39PVCAvw",
        "outputId": "a68e8461-c3da-44ab-c63b-16f11a6ced60"
      },
      "execution_count": 190,
      "outputs": [
        {
          "output_type": "stream",
          "name": "stdout",
          "text": [
            "Applying Frequency Encoding on MSSubClass\n",
            "Applying One-Hot Encoding on MSZoning\n",
            "Applying One-Hot Encoding on Street\n",
            "Applying One-Hot Encoding on LotShape\n",
            "Applying One-Hot Encoding on LandContour\n",
            "Applying One-Hot Encoding on Utilities\n",
            "Applying One-Hot Encoding on LotConfig\n",
            "Applying One-Hot Encoding on LandSlope\n",
            "Applying Frequency Encoding on Neighborhood\n",
            "Applying One-Hot Encoding on Condition1\n",
            "Applying One-Hot Encoding on Condition2\n",
            "Applying One-Hot Encoding on BldgType\n",
            "Applying One-Hot Encoding on HouseStyle\n",
            "Applying One-Hot Encoding on RoofStyle\n",
            "Applying One-Hot Encoding on RoofMatl\n",
            "Applying Frequency Encoding on Exterior1st\n",
            "Applying Frequency Encoding on Exterior2nd\n",
            "Applying One-Hot Encoding on MasVnrType\n",
            "Applying One-Hot Encoding on ExterQual\n",
            "Applying One-Hot Encoding on ExterCond\n",
            "Applying One-Hot Encoding on Foundation\n",
            "Applying One-Hot Encoding on BsmtQual\n",
            "Applying One-Hot Encoding on BsmtCond\n",
            "Applying One-Hot Encoding on BsmtExposure\n",
            "Applying One-Hot Encoding on BsmtFinType1\n",
            "Applying One-Hot Encoding on BsmtFinType2\n",
            "Applying One-Hot Encoding on Heating\n",
            "Applying One-Hot Encoding on HeatingQC\n",
            "Applying One-Hot Encoding on CentralAir\n",
            "Applying One-Hot Encoding on Electrical\n",
            "Applying One-Hot Encoding on KitchenQual\n",
            "Applying One-Hot Encoding on Functional\n",
            "Applying One-Hot Encoding on FireplaceQu\n",
            "Applying One-Hot Encoding on GarageType\n",
            "Applying One-Hot Encoding on GarageFinish\n",
            "Applying One-Hot Encoding on GarageQual\n",
            "Applying One-Hot Encoding on GarageCond\n",
            "Applying One-Hot Encoding on PavedDrive\n",
            "Applying Frequency Encoding on MoSold\n",
            "Applying One-Hot Encoding on SaleType\n",
            "Applying One-Hot Encoding on SaleCondition\n",
            "  MSSubClass  LotFrontage  LotArea  Neighborhood  OverallQual  OverallCond  \\\n",
            "0        299         65.0   8450.0           150          7.0          5.0   \n",
            "1        536         80.0   9600.0            11          6.0          8.0   \n",
            "2        299         68.0  11250.0           150          7.0          5.0   \n",
            "3         60         60.0   9550.0            51          7.0          5.0   \n",
            "4        299         84.0  14260.0            41          8.0          5.0   \n",
            "\n",
            "   YearBuilt  YearRemodAdd  Exterior1st  Exterior2nd  ...  SaleType_ConLI  \\\n",
            "0     2003.0        2003.0          515          504  ...             0.0   \n",
            "1     1976.0        1976.0          220          214  ...             0.0   \n",
            "2     2001.0        2002.0          515          504  ...             0.0   \n",
            "3     1915.0        1970.0          206           38  ...             0.0   \n",
            "4     2000.0        2000.0          515          504  ...             0.0   \n",
            "\n",
            "   SaleType_ConLw  SaleType_New  SaleType_Oth  SaleType_WD  \\\n",
            "0             0.0           0.0           0.0          1.0   \n",
            "1             0.0           0.0           0.0          1.0   \n",
            "2             0.0           0.0           0.0          1.0   \n",
            "3             0.0           0.0           0.0          1.0   \n",
            "4             0.0           0.0           0.0          1.0   \n",
            "\n",
            "   SaleCondition_AdjLand  SaleCondition_Alloca  SaleCondition_Family  \\\n",
            "0                    0.0                   0.0                   0.0   \n",
            "1                    0.0                   0.0                   0.0   \n",
            "2                    0.0                   0.0                   0.0   \n",
            "3                    0.0                   0.0                   0.0   \n",
            "4                    0.0                   0.0                   0.0   \n",
            "\n",
            "   SaleCondition_Normal  SaleCondition_Partial  \n",
            "0                   1.0                    0.0  \n",
            "1                   1.0                    0.0  \n",
            "2                   1.0                    0.0  \n",
            "3                   0.0                    0.0  \n",
            "4                   1.0                    0.0  \n",
            "\n",
            "[5 rows x 186 columns]\n",
            "   MSSubClass  LotFrontage  LotArea  Neighborhood  OverallQual  OverallCond  \\\n",
            "0       536.0         80.0  11622.0           225          5.0          6.0   \n",
            "1       536.0         81.0  14267.0           225          6.0          6.0   \n",
            "2       299.0         74.0  13830.0            79          5.0          5.0   \n",
            "3       299.0         78.0   9978.0            79          6.0          6.0   \n",
            "4        87.0         43.0   5005.0            25          8.0          5.0   \n",
            "\n",
            "   YearBuilt  YearRemodAdd  Exterior1st Exterior2nd  ...  SaleType_ConLI  \\\n",
            "0     1961.0        1961.0          515         504  ...             0.0   \n",
            "1     1958.0        1958.0          206         197  ...             0.0   \n",
            "2     1997.0        1998.0          515         504  ...             0.0   \n",
            "3     1998.0        1998.0          515         504  ...             0.0   \n",
            "4     1992.0        1992.0          222         207  ...             0.0   \n",
            "\n",
            "   SaleType_ConLw  SaleType_New  SaleType_Oth  SaleType_WD  \\\n",
            "0             0.0           0.0           0.0          1.0   \n",
            "1             0.0           0.0           0.0          1.0   \n",
            "2             0.0           0.0           0.0          1.0   \n",
            "3             0.0           0.0           0.0          1.0   \n",
            "4             0.0           0.0           0.0          1.0   \n",
            "\n",
            "   SaleCondition_AdjLand  SaleCondition_Alloca  SaleCondition_Family  \\\n",
            "0                    0.0                   0.0                   0.0   \n",
            "1                    0.0                   0.0                   0.0   \n",
            "2                    0.0                   0.0                   0.0   \n",
            "3                    0.0                   0.0                   0.0   \n",
            "4                    0.0                   0.0                   0.0   \n",
            "\n",
            "   SaleCondition_Normal  SaleCondition_Partial  \n",
            "0                   1.0                    0.0  \n",
            "1                   1.0                    0.0  \n",
            "2                   1.0                    0.0  \n",
            "3                   1.0                    0.0  \n",
            "4                   1.0                    0.0  \n",
            "\n",
            "[5 rows x 185 columns]\n"
          ]
        }
      ]
    },
    {
      "cell_type": "code",
      "source": [
        "dftrain_encoded.info()"
      ],
      "metadata": {
        "colab": {
          "base_uri": "https://localhost:8080/"
        },
        "id": "dGpGd4pCLLma",
        "outputId": "22d5ce85-e22e-48ca-b506-9034e1a2e930"
      },
      "execution_count": 191,
      "outputs": [
        {
          "output_type": "stream",
          "name": "stdout",
          "text": [
            "<class 'pandas.core.frame.DataFrame'>\n",
            "RangeIndex: 1460 entries, 0 to 1459\n",
            "Columns: 186 entries, MSSubClass to SaleCondition_Partial\n",
            "dtypes: category(2), float64(180), int64(4)\n",
            "memory usage: 2.1 MB\n"
          ]
        }
      ]
    },
    {
      "cell_type": "code",
      "source": [
        "dftest_encoded.info()"
      ],
      "metadata": {
        "id": "QiRxuxGtLgMX",
        "colab": {
          "base_uri": "https://localhost:8080/"
        },
        "outputId": "f67fa65e-5d8f-46d7-b34b-5586ba6cf752"
      },
      "execution_count": 192,
      "outputs": [
        {
          "output_type": "stream",
          "name": "stdout",
          "text": [
            "<class 'pandas.core.frame.DataFrame'>\n",
            "RangeIndex: 1459 entries, 0 to 1458\n",
            "Columns: 185 entries, MSSubClass to SaleCondition_Partial\n",
            "dtypes: category(2), float64(181), int64(2)\n",
            "memory usage: 2.0 MB\n"
          ]
        }
      ]
    },
    {
      "cell_type": "code",
      "source": [
        "# Display all columns with the data type 'category'\n",
        "categorical_columns = dftrain_encoded.select_dtypes(include='category')\n",
        "print(categorical_columns)"
      ],
      "metadata": {
        "colab": {
          "base_uri": "https://localhost:8080/"
        },
        "id": "p-gDa5imWMA6",
        "outputId": "bb44638e-81dd-4441-f9d0-4663e59ca079"
      },
      "execution_count": 193,
      "outputs": [
        {
          "output_type": "stream",
          "name": "stdout",
          "text": [
            "     MSSubClass MoSold\n",
            "0           299     52\n",
            "1           536    204\n",
            "2           299     63\n",
            "3            60     52\n",
            "4           299     59\n",
            "...         ...    ...\n",
            "1455        299    122\n",
            "1456        536     52\n",
            "1457         60    204\n",
            "1458        536    141\n",
            "1459        536    253\n",
            "\n",
            "[1460 rows x 2 columns]\n"
          ]
        }
      ]
    },
    {
      "cell_type": "code",
      "source": [
        "freq_map = dftrain_encoded['MSSubClass'].value_counts(normalize=True).to_dict()\n",
        "dftrain_encoded['MSSubClass'] = dftrain_encoded['MSSubClass'].map(freq_map)\n",
        "dftest_encoded['MSSubClass'] = dftest_encoded['MSSubClass'].map(freq_map).fillna(0)  # Fallback for unseen"
      ],
      "metadata": {
        "id": "VuRMBqKBaSPb"
      },
      "execution_count": 194,
      "outputs": []
    },
    {
      "cell_type": "code",
      "source": [
        "dftest_encoded['MoSold'] = dftest_encoded['MoSold'].astype(str)  # Convert to object type\n",
        "dftrain_encoded['MoSold'] = dftrain_encoded['MoSold'].astype(str)\n",
        "\n",
        "freq_map = dftrain_encoded['MoSold'].value_counts(normalize=True).to_dict()\n",
        "\n",
        "dftrain_encoded['MoSold'] = dftrain_encoded['MoSold'].map(freq_map)\n",
        "dftest_encoded['MoSold'] = dftest_encoded['MoSold'].map(freq_map).fillna(0)  # Ensure no NaN"
      ],
      "metadata": {
        "id": "FjDlhN-rbewb"
      },
      "execution_count": 195,
      "outputs": []
    },
    {
      "cell_type": "code",
      "source": [
        "freq_map = dftrain_encoded['MoSold'].value_counts(normalize=True).to_dict()\n",
        "\n",
        "dftrain_encoded['MoSold'] = dftrain_encoded['MoSold'].map(freq_map)\n",
        "dftest_encoded['MoSold'] = dftest_encoded['MoSold'].map(freq_map)\n",
        "\n",
        "# Fill any NaN values caused by unseen categories\n",
        "dftest_encoded['MoSold'] = dftest_encoded['MoSold'].fillna(0)"
      ],
      "metadata": {
        "id": "BK00mH_hben9"
      },
      "execution_count": 196,
      "outputs": []
    },
    {
      "cell_type": "code",
      "source": [
        "print(\"NaN in MSSubClass (train):\", dftrain_encoded['MSSubClass'].isnull().sum())\n",
        "print(\"NaN in MSSubClass (test):\", dftest_encoded['MSSubClass'].isnull().sum())\n",
        "print(\"NaN in MoSold (train):\", dftrain_encoded['MoSold'].isnull().sum())\n",
        "print(\"NaN in MoSold (test):\", dftest_encoded['MoSold'].isnull().sum())"
      ],
      "metadata": {
        "colab": {
          "base_uri": "https://localhost:8080/"
        },
        "id": "X3zbjSPubAr0",
        "outputId": "e8e92091-2af1-4fff-9e64-0efd0cc02c6e"
      },
      "execution_count": 197,
      "outputs": [
        {
          "output_type": "stream",
          "name": "stdout",
          "text": [
            "NaN in MSSubClass (train): 0\n",
            "NaN in MSSubClass (test): 0\n",
            "NaN in MoSold (train): 0\n",
            "NaN in MoSold (test): 0\n"
          ]
        }
      ]
    },
    {
      "cell_type": "code",
      "source": [
        "dftrain_encoded['MSSubClass'] = dftrain_encoded['MSSubClass'].astype(float)  # Or int if appropriate\n",
        "dftest_encoded['MSSubClass'] = dftest_encoded['MSSubClass'].astype(float)\n",
        "\n",
        "dftrain_encoded['MoSold'] = dftrain_encoded['MoSold'].astype(float)  # Or int\n",
        "dftest_encoded['MoSold'] = dftest_encoded['MoSold'].astype(float)"
      ],
      "metadata": {
        "id": "G__9l_EDbDHb"
      },
      "execution_count": 198,
      "outputs": []
    },
    {
      "cell_type": "code",
      "source": [
        "dftrain_encoded.info()"
      ],
      "metadata": {
        "colab": {
          "base_uri": "https://localhost:8080/"
        },
        "id": "7MVSOq7qbzl0",
        "outputId": "a6c5512f-0dc5-48df-b8b9-cdeef72a434a"
      },
      "execution_count": 199,
      "outputs": [
        {
          "output_type": "stream",
          "name": "stdout",
          "text": [
            "<class 'pandas.core.frame.DataFrame'>\n",
            "RangeIndex: 1460 entries, 0 to 1459\n",
            "Columns: 186 entries, MSSubClass to SaleCondition_Partial\n",
            "dtypes: float64(182), int64(4)\n",
            "memory usage: 2.1 MB\n"
          ]
        }
      ]
    },
    {
      "cell_type": "code",
      "source": [
        "dftest_encoded.info()"
      ],
      "metadata": {
        "colab": {
          "base_uri": "https://localhost:8080/"
        },
        "id": "4OBvrqqOb4dk",
        "outputId": "c4969763-4f6f-4f49-cbd2-989aef2ee53c"
      },
      "execution_count": 200,
      "outputs": [
        {
          "output_type": "stream",
          "name": "stdout",
          "text": [
            "<class 'pandas.core.frame.DataFrame'>\n",
            "RangeIndex: 1459 entries, 0 to 1458\n",
            "Columns: 185 entries, MSSubClass to SaleCondition_Partial\n",
            "dtypes: category(1), float64(182), int64(2)\n",
            "memory usage: 2.1 MB\n"
          ]
        }
      ]
    },
    {
      "cell_type": "code",
      "source": [
        "# Display all columns with the data type 'category'\n",
        "categorical_columns = dftest_encoded.select_dtypes(include='category')\n",
        "print(categorical_columns)"
      ],
      "metadata": {
        "colab": {
          "base_uri": "https://localhost:8080/"
        },
        "id": "ERyB7AMOcDjE",
        "outputId": "7ecf4375-c265-423e-cc55-a1acedca9b42"
      },
      "execution_count": 201,
      "outputs": [
        {
          "output_type": "stream",
          "name": "stdout",
          "text": [
            "     Exterior2nd\n",
            "0            504\n",
            "1            197\n",
            "2            504\n",
            "3            504\n",
            "4            207\n",
            "...          ...\n",
            "1454          60\n",
            "1455          60\n",
            "1456         504\n",
            "1457          38\n",
            "1458         207\n",
            "\n",
            "[1459 rows x 1 columns]\n"
          ]
        }
      ]
    },
    {
      "cell_type": "code",
      "source": [
        "print(dftrain_encoded['Exterior2nd'].head())\n",
        "print(dftest_encoded['Exterior2nd'].head())"
      ],
      "metadata": {
        "colab": {
          "base_uri": "https://localhost:8080/"
        },
        "id": "WdsuE-Cqcf68",
        "outputId": "f33118b3-6066-4deb-cf10-9a2ae927b638"
      },
      "execution_count": 202,
      "outputs": [
        {
          "output_type": "stream",
          "name": "stdout",
          "text": [
            "0    504\n",
            "1    214\n",
            "2    504\n",
            "3     38\n",
            "4    504\n",
            "Name: Exterior2nd, dtype: int64\n",
            "0    504\n",
            "1    197\n",
            "2    504\n",
            "3    504\n",
            "4    207\n",
            "Name: Exterior2nd, dtype: category\n",
            "Categories (15, int64): [20, 3, 7, 25, ..., 26, 504, 197, 38]\n"
          ]
        }
      ]
    },
    {
      "cell_type": "code",
      "source": [
        "dftest_encoded['Exterior2nd'] = dftest_encoded['Exterior2nd'].astype(float)"
      ],
      "metadata": {
        "id": "IvZLsOqieYFk"
      },
      "execution_count": 203,
      "outputs": []
    },
    {
      "cell_type": "code",
      "source": [
        "dftest_encoded.info()"
      ],
      "metadata": {
        "colab": {
          "base_uri": "https://localhost:8080/"
        },
        "id": "qfZd4R-neiTc",
        "outputId": "4e335d2c-394c-43ad-93c7-85735333f2c4"
      },
      "execution_count": 204,
      "outputs": [
        {
          "output_type": "stream",
          "name": "stdout",
          "text": [
            "<class 'pandas.core.frame.DataFrame'>\n",
            "RangeIndex: 1459 entries, 0 to 1458\n",
            "Columns: 185 entries, MSSubClass to SaleCondition_Partial\n",
            "dtypes: float64(183), int64(2)\n",
            "memory usage: 2.1 MB\n"
          ]
        }
      ]
    },
    {
      "cell_type": "markdown",
      "source": [
        "**Scaling**"
      ],
      "metadata": {
        "id": "fDtx6r-wem0k"
      }
    },
    {
      "cell_type": "code",
      "source": [
        "# Separate predictor and target variables\n",
        "x = dftrain_encoded.drop(columns=['SalePrice'])\n",
        "y = dftrain_encoded[['SalePrice']]"
      ],
      "metadata": {
        "id": "J9JYCVyueoje"
      },
      "execution_count": 205,
      "outputs": []
    },
    {
      "cell_type": "code",
      "source": [
        "scaler = MinMaxScaler()\n",
        "\n",
        "# Fit the scaler on the training data and transform both training and testing data\n",
        "dftrain_scaled = scaler.fit_transform(x)\n",
        "dftest_scaled = scaler.transform(dftest_encoded)"
      ],
      "metadata": {
        "id": "Vej8YR30gnx0"
      },
      "execution_count": 206,
      "outputs": []
    },
    {
      "cell_type": "code",
      "source": [
        "!pip install catboost"
      ],
      "metadata": {
        "colab": {
          "base_uri": "https://localhost:8080/"
        },
        "id": "bQvhCFsOF_aE",
        "outputId": "1f2cb9b0-7d16-4d81-e538-b3c0566c854d"
      },
      "execution_count": 207,
      "outputs": [
        {
          "output_type": "stream",
          "name": "stdout",
          "text": [
            "Requirement already satisfied: catboost in /usr/local/lib/python3.10/dist-packages (1.2.7)\n",
            "Requirement already satisfied: graphviz in /usr/local/lib/python3.10/dist-packages (from catboost) (0.20.3)\n",
            "Requirement already satisfied: matplotlib in /usr/local/lib/python3.10/dist-packages (from catboost) (3.8.0)\n",
            "Requirement already satisfied: numpy<2.0,>=1.16.0 in /usr/local/lib/python3.10/dist-packages (from catboost) (1.26.4)\n",
            "Requirement already satisfied: pandas>=0.24 in /usr/local/lib/python3.10/dist-packages (from catboost) (2.2.2)\n",
            "Requirement already satisfied: scipy in /usr/local/lib/python3.10/dist-packages (from catboost) (1.13.1)\n",
            "Requirement already satisfied: plotly in /usr/local/lib/python3.10/dist-packages (from catboost) (5.24.1)\n",
            "Requirement already satisfied: six in /usr/local/lib/python3.10/dist-packages (from catboost) (1.16.0)\n",
            "Requirement already satisfied: python-dateutil>=2.8.2 in /usr/local/lib/python3.10/dist-packages (from pandas>=0.24->catboost) (2.8.2)\n",
            "Requirement already satisfied: pytz>=2020.1 in /usr/local/lib/python3.10/dist-packages (from pandas>=0.24->catboost) (2024.2)\n",
            "Requirement already satisfied: tzdata>=2022.7 in /usr/local/lib/python3.10/dist-packages (from pandas>=0.24->catboost) (2024.2)\n",
            "Requirement already satisfied: contourpy>=1.0.1 in /usr/local/lib/python3.10/dist-packages (from matplotlib->catboost) (1.3.1)\n",
            "Requirement already satisfied: cycler>=0.10 in /usr/local/lib/python3.10/dist-packages (from matplotlib->catboost) (0.12.1)\n",
            "Requirement already satisfied: fonttools>=4.22.0 in /usr/local/lib/python3.10/dist-packages (from matplotlib->catboost) (4.55.0)\n",
            "Requirement already satisfied: kiwisolver>=1.0.1 in /usr/local/lib/python3.10/dist-packages (from matplotlib->catboost) (1.4.7)\n",
            "Requirement already satisfied: packaging>=20.0 in /usr/local/lib/python3.10/dist-packages (from matplotlib->catboost) (24.2)\n",
            "Requirement already satisfied: pillow>=6.2.0 in /usr/local/lib/python3.10/dist-packages (from matplotlib->catboost) (11.0.0)\n",
            "Requirement already satisfied: pyparsing>=2.3.1 in /usr/local/lib/python3.10/dist-packages (from matplotlib->catboost) (3.2.0)\n",
            "Requirement already satisfied: tenacity>=6.2.0 in /usr/local/lib/python3.10/dist-packages (from plotly->catboost) (9.0.0)\n"
          ]
        }
      ]
    },
    {
      "cell_type": "code",
      "source": [
        "from sklearn.metrics import mean_squared_error\n",
        "from sklearn.ensemble import RandomForestRegressor\n",
        "from xgboost import XGBRegressor\n",
        "from catboost import CatBoostRegressor\n",
        "from lightgbm import LGBMRegressor\n",
        "from sklearn.linear_model import LinearRegression\n",
        "from sklearn.ensemble import GradientBoostingRegressor"
      ],
      "metadata": {
        "id": "-N95wl9-Feqj"
      },
      "execution_count": 208,
      "outputs": []
    },
    {
      "cell_type": "code",
      "source": [
        "from sklearn.model_selection import train_test_split\n",
        "X_train, X_val, y_train, y_val = train_test_split(dftrain_scaled, y, test_size=0.2, random_state=42)"
      ],
      "metadata": {
        "id": "ga67JgZiScwi"
      },
      "execution_count": 209,
      "outputs": []
    },
    {
      "cell_type": "code",
      "source": [
        "# Define models\n",
        "models = {\n",
        "    \"LinearRegression\": LinearRegression(),\n",
        "    \"RandomForest\": RandomForestRegressor(random_state=42),\n",
        "    \"XGBRegressor\": XGBRegressor(random_state=42),\n",
        "    \"CatBoost\": CatBoostRegressor(verbose=0, random_state=42),\n",
        "    \"LGBMRegressor\": LGBMRegressor(random_state=42),\n",
        "    \"GradientBoosting\": GradientBoostingRegressor(random_state=42)\n",
        "}"
      ],
      "metadata": {
        "id": "xS8i0iGASxxK"
      },
      "execution_count": 210,
      "outputs": []
    },
    {
      "cell_type": "code",
      "source": [
        "for name, model in models.items():\n",
        "    model.fit(X_train, y_train)\n",
        "    preds = model.predict(X_val)\n",
        "\n",
        "    # Handle invalid predictions\n",
        "    if np.any(preds <= 0) or np.isnan(preds).any():\n",
        "        print(f\"{name} produced invalid predictions. Skipping RMSE calculation.\")\n",
        "        continue\n",
        "\n",
        "    # Compute RMSE\n",
        "    preds = np.clip(preds, a_min=1, a_max=None)\n",
        "    rmse = np.sqrt(mean_squared_error(np.log1p(y_val), np.log1p(preds)))\n",
        "    print(f\"{name} RMSE: {rmse:.5f}\")\n"
      ],
      "metadata": {
        "colab": {
          "base_uri": "https://localhost:8080/"
        },
        "id": "uPsYVFFmTPiL",
        "outputId": "c18c0547-a687-4363-890a-5d18f872341f"
      },
      "execution_count": 211,
      "outputs": [
        {
          "output_type": "stream",
          "name": "stdout",
          "text": [
            "LinearRegression produced invalid predictions. Skipping RMSE calculation.\n"
          ]
        },
        {
          "output_type": "stream",
          "name": "stderr",
          "text": [
            "/usr/local/lib/python3.10/dist-packages/sklearn/base.py:1473: DataConversionWarning: A column-vector y was passed when a 1d array was expected. Please change the shape of y to (n_samples,), for example using ravel().\n",
            "  return fit_method(estimator, *args, **kwargs)\n"
          ]
        },
        {
          "output_type": "stream",
          "name": "stdout",
          "text": [
            "RandomForest RMSE: 0.15337\n",
            "XGBRegressor RMSE: 0.14189\n",
            "CatBoost RMSE: 0.13807\n",
            "[LightGBM] [Info] Auto-choosing row-wise multi-threading, the overhead of testing was 0.001405 seconds.\n",
            "You can set `force_row_wise=true` to remove the overhead.\n",
            "And if memory is not enough, you can set `force_col_wise=true`.\n",
            "[LightGBM] [Info] Total Bins 3109\n",
            "[LightGBM] [Info] Number of data points in the train set: 1168, number of used features: 120\n",
            "[LightGBM] [Info] Start training from score 181441.541952\n"
          ]
        },
        {
          "output_type": "stream",
          "name": "stderr",
          "text": [
            "/usr/local/lib/python3.10/dist-packages/sklearn/utils/validation.py:1339: DataConversionWarning: A column-vector y was passed when a 1d array was expected. Please change the shape of y to (n_samples, ), for example using ravel().\n",
            "  y = column_or_1d(y, warn=True)\n"
          ]
        },
        {
          "output_type": "stream",
          "name": "stdout",
          "text": [
            "LGBMRegressor RMSE: 0.14904\n"
          ]
        },
        {
          "output_type": "stream",
          "name": "stderr",
          "text": [
            "/usr/local/lib/python3.10/dist-packages/sklearn/ensemble/_gb.py:668: DataConversionWarning: A column-vector y was passed when a 1d array was expected. Please change the shape of y to (n_samples, ), for example using ravel().\n",
            "  y = column_or_1d(y, warn=True)  # TODO: Is this still required?\n"
          ]
        },
        {
          "output_type": "stream",
          "name": "stdout",
          "text": [
            "GradientBoosting RMSE: 0.14459\n"
          ]
        }
      ]
    },
    {
      "cell_type": "code",
      "source": [
        "best_model = CatBoostRegressor(verbose=0, random_state=42)  # Selecting the best model\n",
        "best_model.fit(dftrain_scaled, y)"
      ],
      "metadata": {
        "colab": {
          "base_uri": "https://localhost:8080/"
        },
        "id": "j1-zWMYEUeQg",
        "outputId": "b4e7cdfa-c7b5-4aed-a577-e1e99c6d5152"
      },
      "execution_count": 212,
      "outputs": [
        {
          "output_type": "execute_result",
          "data": {
            "text/plain": [
              "<catboost.core.CatBoostRegressor at 0x784a2bdb7100>"
            ]
          },
          "metadata": {},
          "execution_count": 212
        }
      ]
    },
    {
      "cell_type": "code",
      "source": [
        "test_preds = best_model.predict(dftest_scaled)"
      ],
      "metadata": {
        "id": "m8yF1b7Uekgx"
      },
      "execution_count": 213,
      "outputs": []
    },
    {
      "cell_type": "code",
      "source": [
        "test_preds"
      ],
      "metadata": {
        "colab": {
          "base_uri": "https://localhost:8080/"
        },
        "id": "HcORCyeJi88w",
        "outputId": "b384778b-7fa7-482b-996f-d0542ad3e648"
      },
      "execution_count": 214,
      "outputs": [
        {
          "output_type": "execute_result",
          "data": {
            "text/plain": [
              "array([123720.98540891, 164975.17673791, 186806.94032301, ...,\n",
              "       166927.55978968, 116285.17130774, 232659.60001279])"
            ]
          },
          "metadata": {},
          "execution_count": 214
        }
      ]
    },
    {
      "cell_type": "code",
      "source": [
        "len(test_preds)"
      ],
      "metadata": {
        "colab": {
          "base_uri": "https://localhost:8080/"
        },
        "id": "ddEWcANsj43Z",
        "outputId": "2e7c141f-9ef8-42a7-bff4-45feb362f1ca"
      },
      "execution_count": 216,
      "outputs": [
        {
          "output_type": "execute_result",
          "data": {
            "text/plain": [
              "1459"
            ]
          },
          "metadata": {},
          "execution_count": 216
        }
      ]
    },
    {
      "cell_type": "code",
      "source": [
        "submission = pd.DataFrame({\n",
        "    \"ID\": range(1461, 1461 + len(test_preds)),  # Generate IDs for test data\n",
        "    \"SalePrice\": test_preds  # Predicted house prices\n",
        "})\n",
        "\n",
        "# Verify the submission file\n",
        "print(submission.head())\n",
        "print(submission.describe())"
      ],
      "metadata": {
        "colab": {
          "base_uri": "https://localhost:8080/"
        },
        "id": "j52xT7vBkPzh",
        "outputId": "c370a5fe-988d-4c8c-b74a-09001b40c064"
      },
      "execution_count": 217,
      "outputs": [
        {
          "output_type": "stream",
          "name": "stdout",
          "text": [
            "     ID      SalePrice\n",
            "0  1461  123720.985409\n",
            "1  1462  164975.176738\n",
            "2  1463  186806.940323\n",
            "3  1464  190563.169797\n",
            "4  1465  182813.145035\n",
            "                ID      SalePrice\n",
            "count  1459.000000    1459.000000\n",
            "mean   2190.000000  178888.673705\n",
            "std     421.321334   76127.901582\n",
            "min    1461.000000   44288.469506\n",
            "25%    1825.500000  128578.607799\n",
            "50%    2190.000000  157328.997056\n",
            "75%    2554.500000  211167.833214\n",
            "max    2919.000000  534507.953473\n"
          ]
        }
      ]
    },
    {
      "cell_type": "code",
      "source": [
        "submission.to_csv(\"submission.csv\", index=False)\n",
        "print(\"Submission file saved as 'submission.csv'\")"
      ],
      "metadata": {
        "colab": {
          "base_uri": "https://localhost:8080/"
        },
        "id": "7uAIrDAbl1zm",
        "outputId": "023d5e97-6a53-49ed-f6dc-954bd2478975"
      },
      "execution_count": 218,
      "outputs": [
        {
          "output_type": "stream",
          "name": "stdout",
          "text": [
            "Submission file saved as 'submission.csv'\n"
          ]
        }
      ]
    }
  ]
}